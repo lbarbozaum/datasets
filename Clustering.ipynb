{
  "cells": [
    {
      "cell_type": "markdown",
      "metadata": {
        "deletable": false,
        "editable": false,
        "id": "PfZ4dkEDbaKZ"
      },
      "source": [
        "Copyright 2020 Dale Bowman, Tasha Sahr, Andrew M. Olney and made available under [CC BY-SA](https://creativecommons.org/licenses/by-sa/4.0) for text and [Apache-2.0](http://www.apache.org/licenses/LICENSE-2.0) for code."
      ]
    },
    {
      "cell_type": "markdown",
      "metadata": {
        "id": "XNBGlRVRbaKb"
      },
      "source": [
        "# Intro to AI/ML"
      ]
    },
    {
      "cell_type": "markdown",
      "metadata": {
        "id": "CmH7D2L-baKb"
      },
      "source": [
        "![](https://pbs.twimg.com/media/GPvO80iWAAAkvK9?format=jpg&name=medium)"
      ]
    },
    {
      "cell_type": "markdown",
      "metadata": {
        "id": "rPxVETkubaKb"
      },
      "source": [
        "![](https://pbs.twimg.com/media/GPvO7sMXQAAUOTD?format=jpg&name=medium)"
      ]
    },
    {
      "cell_type": "markdown",
      "metadata": {
        "id": "eHZM_3AqbaKc"
      },
      "source": [
        "![](https://pbs.twimg.com/media/GPvO4waWkAAI2Cn?format=jpg&name=medium)"
      ]
    },
    {
      "cell_type": "markdown",
      "metadata": {
        "id": "8sUGE5_wbaKc"
      },
      "source": [
        "# Clustering"
      ]
    },
    {
      "cell_type": "code",
      "execution_count": 7,
      "metadata": {
        "colab": {
          "base_uri": "https://localhost:8080/",
          "height": 269
        },
        "id": "uivlYFasbaKc",
        "outputId": "32d8ed6f-6884-4884-d98a-bec2c105cda1"
      },
      "outputs": [
        {
          "output_type": "execute_result",
          "data": {
            "text/plain": [
              "         Murder  Rape  Robbery  Assault  Burglary  Larceny  Auto Theft\n",
              "City                                                                  \n",
              "Atlanta    16.5  24.8      106      147      1112      905         494\n",
              "Boston      4.2  13.3      122       90       982      669         954\n",
              "Chicago    11.6  24.7      340      242       808      609         645\n",
              "Dallas     18.1  34.2      184      293      1668      901         602\n",
              "Denver      6.9  41.5      173      191      1534     1368         780\n",
              "Detroit    13.0  35.7      477      220      1566     1183         788"
            ],
            "text/html": [
              "\n",
              "  <div id=\"df-d766fc06-b20f-49b5-8216-5b4851d64dc1\" class=\"colab-df-container\">\n",
              "    <div>\n",
              "<style scoped>\n",
              "    .dataframe tbody tr th:only-of-type {\n",
              "        vertical-align: middle;\n",
              "    }\n",
              "\n",
              "    .dataframe tbody tr th {\n",
              "        vertical-align: top;\n",
              "    }\n",
              "\n",
              "    .dataframe thead th {\n",
              "        text-align: right;\n",
              "    }\n",
              "</style>\n",
              "<table border=\"1\" class=\"dataframe\">\n",
              "  <thead>\n",
              "    <tr style=\"text-align: right;\">\n",
              "      <th></th>\n",
              "      <th>Murder</th>\n",
              "      <th>Rape</th>\n",
              "      <th>Robbery</th>\n",
              "      <th>Assault</th>\n",
              "      <th>Burglary</th>\n",
              "      <th>Larceny</th>\n",
              "      <th>Auto Theft</th>\n",
              "    </tr>\n",
              "    <tr>\n",
              "      <th>City</th>\n",
              "      <th></th>\n",
              "      <th></th>\n",
              "      <th></th>\n",
              "      <th></th>\n",
              "      <th></th>\n",
              "      <th></th>\n",
              "      <th></th>\n",
              "    </tr>\n",
              "  </thead>\n",
              "  <tbody>\n",
              "    <tr>\n",
              "      <th>Atlanta</th>\n",
              "      <td>16.5</td>\n",
              "      <td>24.8</td>\n",
              "      <td>106</td>\n",
              "      <td>147</td>\n",
              "      <td>1112</td>\n",
              "      <td>905</td>\n",
              "      <td>494</td>\n",
              "    </tr>\n",
              "    <tr>\n",
              "      <th>Boston</th>\n",
              "      <td>4.2</td>\n",
              "      <td>13.3</td>\n",
              "      <td>122</td>\n",
              "      <td>90</td>\n",
              "      <td>982</td>\n",
              "      <td>669</td>\n",
              "      <td>954</td>\n",
              "    </tr>\n",
              "    <tr>\n",
              "      <th>Chicago</th>\n",
              "      <td>11.6</td>\n",
              "      <td>24.7</td>\n",
              "      <td>340</td>\n",
              "      <td>242</td>\n",
              "      <td>808</td>\n",
              "      <td>609</td>\n",
              "      <td>645</td>\n",
              "    </tr>\n",
              "    <tr>\n",
              "      <th>Dallas</th>\n",
              "      <td>18.1</td>\n",
              "      <td>34.2</td>\n",
              "      <td>184</td>\n",
              "      <td>293</td>\n",
              "      <td>1668</td>\n",
              "      <td>901</td>\n",
              "      <td>602</td>\n",
              "    </tr>\n",
              "    <tr>\n",
              "      <th>Denver</th>\n",
              "      <td>6.9</td>\n",
              "      <td>41.5</td>\n",
              "      <td>173</td>\n",
              "      <td>191</td>\n",
              "      <td>1534</td>\n",
              "      <td>1368</td>\n",
              "      <td>780</td>\n",
              "    </tr>\n",
              "    <tr>\n",
              "      <th>Detroit</th>\n",
              "      <td>13.0</td>\n",
              "      <td>35.7</td>\n",
              "      <td>477</td>\n",
              "      <td>220</td>\n",
              "      <td>1566</td>\n",
              "      <td>1183</td>\n",
              "      <td>788</td>\n",
              "    </tr>\n",
              "  </tbody>\n",
              "</table>\n",
              "</div>\n",
              "    <div class=\"colab-df-buttons\">\n",
              "\n",
              "  <div class=\"colab-df-container\">\n",
              "    <button class=\"colab-df-convert\" onclick=\"convertToInteractive('df-d766fc06-b20f-49b5-8216-5b4851d64dc1')\"\n",
              "            title=\"Convert this dataframe to an interactive table.\"\n",
              "            style=\"display:none;\">\n",
              "\n",
              "  <svg xmlns=\"http://www.w3.org/2000/svg\" height=\"24px\" viewBox=\"0 -960 960 960\">\n",
              "    <path d=\"M120-120v-720h720v720H120Zm60-500h600v-160H180v160Zm220 220h160v-160H400v160Zm0 220h160v-160H400v160ZM180-400h160v-160H180v160Zm440 0h160v-160H620v160ZM180-180h160v-160H180v160Zm440 0h160v-160H620v160Z\"/>\n",
              "  </svg>\n",
              "    </button>\n",
              "\n",
              "  <style>\n",
              "    .colab-df-container {\n",
              "      display:flex;\n",
              "      gap: 12px;\n",
              "    }\n",
              "\n",
              "    .colab-df-convert {\n",
              "      background-color: #E8F0FE;\n",
              "      border: none;\n",
              "      border-radius: 50%;\n",
              "      cursor: pointer;\n",
              "      display: none;\n",
              "      fill: #1967D2;\n",
              "      height: 32px;\n",
              "      padding: 0 0 0 0;\n",
              "      width: 32px;\n",
              "    }\n",
              "\n",
              "    .colab-df-convert:hover {\n",
              "      background-color: #E2EBFA;\n",
              "      box-shadow: 0px 1px 2px rgba(60, 64, 67, 0.3), 0px 1px 3px 1px rgba(60, 64, 67, 0.15);\n",
              "      fill: #174EA6;\n",
              "    }\n",
              "\n",
              "    .colab-df-buttons div {\n",
              "      margin-bottom: 4px;\n",
              "    }\n",
              "\n",
              "    [theme=dark] .colab-df-convert {\n",
              "      background-color: #3B4455;\n",
              "      fill: #D2E3FC;\n",
              "    }\n",
              "\n",
              "    [theme=dark] .colab-df-convert:hover {\n",
              "      background-color: #434B5C;\n",
              "      box-shadow: 0px 1px 3px 1px rgba(0, 0, 0, 0.15);\n",
              "      filter: drop-shadow(0px 1px 2px rgba(0, 0, 0, 0.3));\n",
              "      fill: #FFFFFF;\n",
              "    }\n",
              "  </style>\n",
              "\n",
              "    <script>\n",
              "      const buttonEl =\n",
              "        document.querySelector('#df-d766fc06-b20f-49b5-8216-5b4851d64dc1 button.colab-df-convert');\n",
              "      buttonEl.style.display =\n",
              "        google.colab.kernel.accessAllowed ? 'block' : 'none';\n",
              "\n",
              "      async function convertToInteractive(key) {\n",
              "        const element = document.querySelector('#df-d766fc06-b20f-49b5-8216-5b4851d64dc1');\n",
              "        const dataTable =\n",
              "          await google.colab.kernel.invokeFunction('convertToInteractive',\n",
              "                                                    [key], {});\n",
              "        if (!dataTable) return;\n",
              "\n",
              "        const docLinkHtml = 'Like what you see? Visit the ' +\n",
              "          '<a target=\"_blank\" href=https://colab.research.google.com/notebooks/data_table.ipynb>data table notebook</a>'\n",
              "          + ' to learn more about interactive tables.';\n",
              "        element.innerHTML = '';\n",
              "        dataTable['output_type'] = 'display_data';\n",
              "        await google.colab.output.renderOutput(dataTable, element);\n",
              "        const docLink = document.createElement('div');\n",
              "        docLink.innerHTML = docLinkHtml;\n",
              "        element.appendChild(docLink);\n",
              "      }\n",
              "    </script>\n",
              "  </div>\n",
              "\n",
              "\n",
              "<div id=\"df-e5f77333-cef0-4da8-8af6-0e800863ca45\">\n",
              "  <button class=\"colab-df-quickchart\" onclick=\"quickchart('df-e5f77333-cef0-4da8-8af6-0e800863ca45')\"\n",
              "            title=\"Suggest charts\"\n",
              "            style=\"display:none;\">\n",
              "\n",
              "<svg xmlns=\"http://www.w3.org/2000/svg\" height=\"24px\"viewBox=\"0 0 24 24\"\n",
              "     width=\"24px\">\n",
              "    <g>\n",
              "        <path d=\"M19 3H5c-1.1 0-2 .9-2 2v14c0 1.1.9 2 2 2h14c1.1 0 2-.9 2-2V5c0-1.1-.9-2-2-2zM9 17H7v-7h2v7zm4 0h-2V7h2v10zm4 0h-2v-4h2v4z\"/>\n",
              "    </g>\n",
              "</svg>\n",
              "  </button>\n",
              "\n",
              "<style>\n",
              "  .colab-df-quickchart {\n",
              "      --bg-color: #E8F0FE;\n",
              "      --fill-color: #1967D2;\n",
              "      --hover-bg-color: #E2EBFA;\n",
              "      --hover-fill-color: #174EA6;\n",
              "      --disabled-fill-color: #AAA;\n",
              "      --disabled-bg-color: #DDD;\n",
              "  }\n",
              "\n",
              "  [theme=dark] .colab-df-quickchart {\n",
              "      --bg-color: #3B4455;\n",
              "      --fill-color: #D2E3FC;\n",
              "      --hover-bg-color: #434B5C;\n",
              "      --hover-fill-color: #FFFFFF;\n",
              "      --disabled-bg-color: #3B4455;\n",
              "      --disabled-fill-color: #666;\n",
              "  }\n",
              "\n",
              "  .colab-df-quickchart {\n",
              "    background-color: var(--bg-color);\n",
              "    border: none;\n",
              "    border-radius: 50%;\n",
              "    cursor: pointer;\n",
              "    display: none;\n",
              "    fill: var(--fill-color);\n",
              "    height: 32px;\n",
              "    padding: 0;\n",
              "    width: 32px;\n",
              "  }\n",
              "\n",
              "  .colab-df-quickchart:hover {\n",
              "    background-color: var(--hover-bg-color);\n",
              "    box-shadow: 0 1px 2px rgba(60, 64, 67, 0.3), 0 1px 3px 1px rgba(60, 64, 67, 0.15);\n",
              "    fill: var(--button-hover-fill-color);\n",
              "  }\n",
              "\n",
              "  .colab-df-quickchart-complete:disabled,\n",
              "  .colab-df-quickchart-complete:disabled:hover {\n",
              "    background-color: var(--disabled-bg-color);\n",
              "    fill: var(--disabled-fill-color);\n",
              "    box-shadow: none;\n",
              "  }\n",
              "\n",
              "  .colab-df-spinner {\n",
              "    border: 2px solid var(--fill-color);\n",
              "    border-color: transparent;\n",
              "    border-bottom-color: var(--fill-color);\n",
              "    animation:\n",
              "      spin 1s steps(1) infinite;\n",
              "  }\n",
              "\n",
              "  @keyframes spin {\n",
              "    0% {\n",
              "      border-color: transparent;\n",
              "      border-bottom-color: var(--fill-color);\n",
              "      border-left-color: var(--fill-color);\n",
              "    }\n",
              "    20% {\n",
              "      border-color: transparent;\n",
              "      border-left-color: var(--fill-color);\n",
              "      border-top-color: var(--fill-color);\n",
              "    }\n",
              "    30% {\n",
              "      border-color: transparent;\n",
              "      border-left-color: var(--fill-color);\n",
              "      border-top-color: var(--fill-color);\n",
              "      border-right-color: var(--fill-color);\n",
              "    }\n",
              "    40% {\n",
              "      border-color: transparent;\n",
              "      border-right-color: var(--fill-color);\n",
              "      border-top-color: var(--fill-color);\n",
              "    }\n",
              "    60% {\n",
              "      border-color: transparent;\n",
              "      border-right-color: var(--fill-color);\n",
              "    }\n",
              "    80% {\n",
              "      border-color: transparent;\n",
              "      border-right-color: var(--fill-color);\n",
              "      border-bottom-color: var(--fill-color);\n",
              "    }\n",
              "    90% {\n",
              "      border-color: transparent;\n",
              "      border-bottom-color: var(--fill-color);\n",
              "    }\n",
              "  }\n",
              "</style>\n",
              "\n",
              "  <script>\n",
              "    async function quickchart(key) {\n",
              "      const quickchartButtonEl =\n",
              "        document.querySelector('#' + key + ' button');\n",
              "      quickchartButtonEl.disabled = true;  // To prevent multiple clicks.\n",
              "      quickchartButtonEl.classList.add('colab-df-spinner');\n",
              "      try {\n",
              "        const charts = await google.colab.kernel.invokeFunction(\n",
              "            'suggestCharts', [key], {});\n",
              "      } catch (error) {\n",
              "        console.error('Error during call to suggestCharts:', error);\n",
              "      }\n",
              "      quickchartButtonEl.classList.remove('colab-df-spinner');\n",
              "      quickchartButtonEl.classList.add('colab-df-quickchart-complete');\n",
              "    }\n",
              "    (() => {\n",
              "      let quickchartButtonEl =\n",
              "        document.querySelector('#df-e5f77333-cef0-4da8-8af6-0e800863ca45 button');\n",
              "      quickchartButtonEl.style.display =\n",
              "        google.colab.kernel.accessAllowed ? 'block' : 'none';\n",
              "    })();\n",
              "  </script>\n",
              "</div>\n",
              "\n",
              "  <div id=\"id_1e7887c5-38f1-4061-a3a2-000f5816f9ff\">\n",
              "    <style>\n",
              "      .colab-df-generate {\n",
              "        background-color: #E8F0FE;\n",
              "        border: none;\n",
              "        border-radius: 50%;\n",
              "        cursor: pointer;\n",
              "        display: none;\n",
              "        fill: #1967D2;\n",
              "        height: 32px;\n",
              "        padding: 0 0 0 0;\n",
              "        width: 32px;\n",
              "      }\n",
              "\n",
              "      .colab-df-generate:hover {\n",
              "        background-color: #E2EBFA;\n",
              "        box-shadow: 0px 1px 2px rgba(60, 64, 67, 0.3), 0px 1px 3px 1px rgba(60, 64, 67, 0.15);\n",
              "        fill: #174EA6;\n",
              "      }\n",
              "\n",
              "      [theme=dark] .colab-df-generate {\n",
              "        background-color: #3B4455;\n",
              "        fill: #D2E3FC;\n",
              "      }\n",
              "\n",
              "      [theme=dark] .colab-df-generate:hover {\n",
              "        background-color: #434B5C;\n",
              "        box-shadow: 0px 1px 3px 1px rgba(0, 0, 0, 0.15);\n",
              "        filter: drop-shadow(0px 1px 2px rgba(0, 0, 0, 0.3));\n",
              "        fill: #FFFFFF;\n",
              "      }\n",
              "    </style>\n",
              "    <button class=\"colab-df-generate\" onclick=\"generateWithVariable('dta_crimes')\"\n",
              "            title=\"Generate code using this dataframe.\"\n",
              "            style=\"display:none;\">\n",
              "\n",
              "  <svg xmlns=\"http://www.w3.org/2000/svg\" height=\"24px\"viewBox=\"0 0 24 24\"\n",
              "       width=\"24px\">\n",
              "    <path d=\"M7,19H8.4L18.45,9,17,7.55,7,17.6ZM5,21V16.75L18.45,3.32a2,2,0,0,1,2.83,0l1.4,1.43a1.91,1.91,0,0,1,.58,1.4,1.91,1.91,0,0,1-.58,1.4L9.25,21ZM18.45,9,17,7.55Zm-12,3A5.31,5.31,0,0,0,4.9,8.1,5.31,5.31,0,0,0,1,6.5,5.31,5.31,0,0,0,4.9,4.9,5.31,5.31,0,0,0,6.5,1,5.31,5.31,0,0,0,8.1,4.9,5.31,5.31,0,0,0,12,6.5,5.46,5.46,0,0,0,6.5,12Z\"/>\n",
              "  </svg>\n",
              "    </button>\n",
              "    <script>\n",
              "      (() => {\n",
              "      const buttonEl =\n",
              "        document.querySelector('#id_1e7887c5-38f1-4061-a3a2-000f5816f9ff button.colab-df-generate');\n",
              "      buttonEl.style.display =\n",
              "        google.colab.kernel.accessAllowed ? 'block' : 'none';\n",
              "\n",
              "      buttonEl.onclick = () => {\n",
              "        google.colab.notebook.generateWithVariable('dta_crimes');\n",
              "      }\n",
              "      })();\n",
              "    </script>\n",
              "  </div>\n",
              "\n",
              "    </div>\n",
              "  </div>\n"
            ],
            "application/vnd.google.colaboratory.intrinsic+json": {
              "type": "dataframe",
              "variable_name": "dta_crimes",
              "summary": "{\n  \"name\": \"dta_crimes\",\n  \"rows\": 6,\n  \"fields\": [\n    {\n      \"column\": \"City\",\n      \"properties\": {\n        \"dtype\": \"string\",\n        \"num_unique_values\": 6,\n        \"samples\": [\n          \"Atlanta\",\n          \"Boston\",\n          \"Detroit\"\n        ],\n        \"semantic_type\": \"\",\n        \"description\": \"\"\n      }\n    },\n    {\n      \"column\": \"Murder\",\n      \"properties\": {\n        \"dtype\": \"number\",\n        \"std\": 5.38494815821533,\n        \"min\": 4.2,\n        \"max\": 18.1,\n        \"num_unique_values\": 6,\n        \"samples\": [\n          16.5,\n          4.2,\n          13.0\n        ],\n        \"semantic_type\": \"\",\n        \"description\": \"\"\n      }\n    },\n    {\n      \"column\": \"Rape\",\n      \"properties\": {\n        \"dtype\": \"number\",\n        \"std\": 10.107357056454802,\n        \"min\": 13.3,\n        \"max\": 41.5,\n        \"num_unique_values\": 6,\n        \"samples\": [\n          24.8,\n          13.3,\n          35.7\n        ],\n        \"semantic_type\": \"\",\n        \"description\": \"\"\n      }\n    },\n    {\n      \"column\": \"Robbery\",\n      \"properties\": {\n        \"dtype\": \"number\",\n        \"std\": 145,\n        \"min\": 106,\n        \"max\": 477,\n        \"num_unique_values\": 6,\n        \"samples\": [\n          106,\n          122,\n          477\n        ],\n        \"semantic_type\": \"\",\n        \"description\": \"\"\n      }\n    },\n    {\n      \"column\": \"Assault\",\n      \"properties\": {\n        \"dtype\": \"number\",\n        \"std\": 71,\n        \"min\": 90,\n        \"max\": 293,\n        \"num_unique_values\": 6,\n        \"samples\": [\n          147,\n          90,\n          220\n        ],\n        \"semantic_type\": \"\",\n        \"description\": \"\"\n      }\n    },\n    {\n      \"column\": \"Burglary\",\n      \"properties\": {\n        \"dtype\": \"number\",\n        \"std\": 356,\n        \"min\": 808,\n        \"max\": 1668,\n        \"num_unique_values\": 6,\n        \"samples\": [\n          1112,\n          982,\n          1566\n        ],\n        \"semantic_type\": \"\",\n        \"description\": \"\"\n      }\n    },\n    {\n      \"column\": \"Larceny\",\n      \"properties\": {\n        \"dtype\": \"number\",\n        \"std\": 292,\n        \"min\": 609,\n        \"max\": 1368,\n        \"num_unique_values\": 6,\n        \"samples\": [\n          905,\n          669,\n          1183\n        ],\n        \"semantic_type\": \"\",\n        \"description\": \"\"\n      }\n    },\n    {\n      \"column\": \"Auto Theft\",\n      \"properties\": {\n        \"dtype\": \"number\",\n        \"std\": 163,\n        \"min\": 494,\n        \"max\": 954,\n        \"num_unique_values\": 6,\n        \"samples\": [\n          494,\n          954,\n          788\n        ],\n        \"semantic_type\": \"\",\n        \"description\": \"\"\n      }\n    }\n  ]\n}"
            }
          },
          "metadata": {},
          "execution_count": 7
        }
      ],
      "source": [
        "import pandas as pd\n",
        "dta_crimes = pd.read_csv('https://raw.githubusercontent.com/lbarbozaum/datasets/main/crime.csv',index_col='City')\n",
        "dta_crimes"
      ]
    },
    {
      "cell_type": "code",
      "source": [
        "import plotly.express as px\n",
        "px.scatter(dta_crimes,x='Murder',y='Rape')"
      ],
      "metadata": {
        "colab": {
          "base_uri": "https://localhost:8080/",
          "height": 542
        },
        "id": "-6tbXwuNbdUQ",
        "outputId": "a7e656d5-5088-4c2a-c559-37e3e1a620c6"
      },
      "execution_count": 11,
      "outputs": [
        {
          "output_type": "display_data",
          "data": {
            "text/html": [
              "<html>\n",
              "<head><meta charset=\"utf-8\" /></head>\n",
              "<body>\n",
              "    <div>            <script src=\"https://cdnjs.cloudflare.com/ajax/libs/mathjax/2.7.5/MathJax.js?config=TeX-AMS-MML_SVG\"></script><script type=\"text/javascript\">if (window.MathJax && window.MathJax.Hub && window.MathJax.Hub.Config) {window.MathJax.Hub.Config({SVG: {font: \"STIX-Web\"}});}</script>                <script type=\"text/javascript\">window.PlotlyConfig = {MathJaxConfig: 'local'};</script>\n",
              "        <script charset=\"utf-8\" src=\"https://cdn.plot.ly/plotly-2.24.1.min.js\"></script>                <div id=\"eb0c0fc9-b4f5-46c7-a141-42f22ed73332\" class=\"plotly-graph-div\" style=\"height:525px; width:100%;\"></div>            <script type=\"text/javascript\">                                    window.PLOTLYENV=window.PLOTLYENV || {};                                    if (document.getElementById(\"eb0c0fc9-b4f5-46c7-a141-42f22ed73332\")) {                    Plotly.newPlot(                        \"eb0c0fc9-b4f5-46c7-a141-42f22ed73332\",                        [{\"hovertemplate\":\"Murder=%{x}\\u003cbr\\u003eRape=%{y}\\u003cextra\\u003e\\u003c\\u002fextra\\u003e\",\"legendgroup\":\"\",\"marker\":{\"color\":\"#636efa\",\"symbol\":\"circle\"},\"mode\":\"markers\",\"name\":\"\",\"orientation\":\"v\",\"showlegend\":false,\"x\":[16.5,4.2,11.6,18.1,6.9,13.0],\"xaxis\":\"x\",\"y\":[24.8,13.3,24.7,34.2,41.5,35.7],\"yaxis\":\"y\",\"type\":\"scatter\"}],                        {\"template\":{\"data\":{\"histogram2dcontour\":[{\"type\":\"histogram2dcontour\",\"colorbar\":{\"outlinewidth\":0,\"ticks\":\"\"},\"colorscale\":[[0.0,\"#0d0887\"],[0.1111111111111111,\"#46039f\"],[0.2222222222222222,\"#7201a8\"],[0.3333333333333333,\"#9c179e\"],[0.4444444444444444,\"#bd3786\"],[0.5555555555555556,\"#d8576b\"],[0.6666666666666666,\"#ed7953\"],[0.7777777777777778,\"#fb9f3a\"],[0.8888888888888888,\"#fdca26\"],[1.0,\"#f0f921\"]]}],\"choropleth\":[{\"type\":\"choropleth\",\"colorbar\":{\"outlinewidth\":0,\"ticks\":\"\"}}],\"histogram2d\":[{\"type\":\"histogram2d\",\"colorbar\":{\"outlinewidth\":0,\"ticks\":\"\"},\"colorscale\":[[0.0,\"#0d0887\"],[0.1111111111111111,\"#46039f\"],[0.2222222222222222,\"#7201a8\"],[0.3333333333333333,\"#9c179e\"],[0.4444444444444444,\"#bd3786\"],[0.5555555555555556,\"#d8576b\"],[0.6666666666666666,\"#ed7953\"],[0.7777777777777778,\"#fb9f3a\"],[0.8888888888888888,\"#fdca26\"],[1.0,\"#f0f921\"]]}],\"heatmap\":[{\"type\":\"heatmap\",\"colorbar\":{\"outlinewidth\":0,\"ticks\":\"\"},\"colorscale\":[[0.0,\"#0d0887\"],[0.1111111111111111,\"#46039f\"],[0.2222222222222222,\"#7201a8\"],[0.3333333333333333,\"#9c179e\"],[0.4444444444444444,\"#bd3786\"],[0.5555555555555556,\"#d8576b\"],[0.6666666666666666,\"#ed7953\"],[0.7777777777777778,\"#fb9f3a\"],[0.8888888888888888,\"#fdca26\"],[1.0,\"#f0f921\"]]}],\"heatmapgl\":[{\"type\":\"heatmapgl\",\"colorbar\":{\"outlinewidth\":0,\"ticks\":\"\"},\"colorscale\":[[0.0,\"#0d0887\"],[0.1111111111111111,\"#46039f\"],[0.2222222222222222,\"#7201a8\"],[0.3333333333333333,\"#9c179e\"],[0.4444444444444444,\"#bd3786\"],[0.5555555555555556,\"#d8576b\"],[0.6666666666666666,\"#ed7953\"],[0.7777777777777778,\"#fb9f3a\"],[0.8888888888888888,\"#fdca26\"],[1.0,\"#f0f921\"]]}],\"contourcarpet\":[{\"type\":\"contourcarpet\",\"colorbar\":{\"outlinewidth\":0,\"ticks\":\"\"}}],\"contour\":[{\"type\":\"contour\",\"colorbar\":{\"outlinewidth\":0,\"ticks\":\"\"},\"colorscale\":[[0.0,\"#0d0887\"],[0.1111111111111111,\"#46039f\"],[0.2222222222222222,\"#7201a8\"],[0.3333333333333333,\"#9c179e\"],[0.4444444444444444,\"#bd3786\"],[0.5555555555555556,\"#d8576b\"],[0.6666666666666666,\"#ed7953\"],[0.7777777777777778,\"#fb9f3a\"],[0.8888888888888888,\"#fdca26\"],[1.0,\"#f0f921\"]]}],\"surface\":[{\"type\":\"surface\",\"colorbar\":{\"outlinewidth\":0,\"ticks\":\"\"},\"colorscale\":[[0.0,\"#0d0887\"],[0.1111111111111111,\"#46039f\"],[0.2222222222222222,\"#7201a8\"],[0.3333333333333333,\"#9c179e\"],[0.4444444444444444,\"#bd3786\"],[0.5555555555555556,\"#d8576b\"],[0.6666666666666666,\"#ed7953\"],[0.7777777777777778,\"#fb9f3a\"],[0.8888888888888888,\"#fdca26\"],[1.0,\"#f0f921\"]]}],\"mesh3d\":[{\"type\":\"mesh3d\",\"colorbar\":{\"outlinewidth\":0,\"ticks\":\"\"}}],\"scatter\":[{\"fillpattern\":{\"fillmode\":\"overlay\",\"size\":10,\"solidity\":0.2},\"type\":\"scatter\"}],\"parcoords\":[{\"type\":\"parcoords\",\"line\":{\"colorbar\":{\"outlinewidth\":0,\"ticks\":\"\"}}}],\"scatterpolargl\":[{\"type\":\"scatterpolargl\",\"marker\":{\"colorbar\":{\"outlinewidth\":0,\"ticks\":\"\"}}}],\"bar\":[{\"error_x\":{\"color\":\"#2a3f5f\"},\"error_y\":{\"color\":\"#2a3f5f\"},\"marker\":{\"line\":{\"color\":\"#E5ECF6\",\"width\":0.5},\"pattern\":{\"fillmode\":\"overlay\",\"size\":10,\"solidity\":0.2}},\"type\":\"bar\"}],\"scattergeo\":[{\"type\":\"scattergeo\",\"marker\":{\"colorbar\":{\"outlinewidth\":0,\"ticks\":\"\"}}}],\"scatterpolar\":[{\"type\":\"scatterpolar\",\"marker\":{\"colorbar\":{\"outlinewidth\":0,\"ticks\":\"\"}}}],\"histogram\":[{\"marker\":{\"pattern\":{\"fillmode\":\"overlay\",\"size\":10,\"solidity\":0.2}},\"type\":\"histogram\"}],\"scattergl\":[{\"type\":\"scattergl\",\"marker\":{\"colorbar\":{\"outlinewidth\":0,\"ticks\":\"\"}}}],\"scatter3d\":[{\"type\":\"scatter3d\",\"line\":{\"colorbar\":{\"outlinewidth\":0,\"ticks\":\"\"}},\"marker\":{\"colorbar\":{\"outlinewidth\":0,\"ticks\":\"\"}}}],\"scattermapbox\":[{\"type\":\"scattermapbox\",\"marker\":{\"colorbar\":{\"outlinewidth\":0,\"ticks\":\"\"}}}],\"scatterternary\":[{\"type\":\"scatterternary\",\"marker\":{\"colorbar\":{\"outlinewidth\":0,\"ticks\":\"\"}}}],\"scattercarpet\":[{\"type\":\"scattercarpet\",\"marker\":{\"colorbar\":{\"outlinewidth\":0,\"ticks\":\"\"}}}],\"carpet\":[{\"aaxis\":{\"endlinecolor\":\"#2a3f5f\",\"gridcolor\":\"white\",\"linecolor\":\"white\",\"minorgridcolor\":\"white\",\"startlinecolor\":\"#2a3f5f\"},\"baxis\":{\"endlinecolor\":\"#2a3f5f\",\"gridcolor\":\"white\",\"linecolor\":\"white\",\"minorgridcolor\":\"white\",\"startlinecolor\":\"#2a3f5f\"},\"type\":\"carpet\"}],\"table\":[{\"cells\":{\"fill\":{\"color\":\"#EBF0F8\"},\"line\":{\"color\":\"white\"}},\"header\":{\"fill\":{\"color\":\"#C8D4E3\"},\"line\":{\"color\":\"white\"}},\"type\":\"table\"}],\"barpolar\":[{\"marker\":{\"line\":{\"color\":\"#E5ECF6\",\"width\":0.5},\"pattern\":{\"fillmode\":\"overlay\",\"size\":10,\"solidity\":0.2}},\"type\":\"barpolar\"}],\"pie\":[{\"automargin\":true,\"type\":\"pie\"}]},\"layout\":{\"autotypenumbers\":\"strict\",\"colorway\":[\"#636efa\",\"#EF553B\",\"#00cc96\",\"#ab63fa\",\"#FFA15A\",\"#19d3f3\",\"#FF6692\",\"#B6E880\",\"#FF97FF\",\"#FECB52\"],\"font\":{\"color\":\"#2a3f5f\"},\"hovermode\":\"closest\",\"hoverlabel\":{\"align\":\"left\"},\"paper_bgcolor\":\"white\",\"plot_bgcolor\":\"#E5ECF6\",\"polar\":{\"bgcolor\":\"#E5ECF6\",\"angularaxis\":{\"gridcolor\":\"white\",\"linecolor\":\"white\",\"ticks\":\"\"},\"radialaxis\":{\"gridcolor\":\"white\",\"linecolor\":\"white\",\"ticks\":\"\"}},\"ternary\":{\"bgcolor\":\"#E5ECF6\",\"aaxis\":{\"gridcolor\":\"white\",\"linecolor\":\"white\",\"ticks\":\"\"},\"baxis\":{\"gridcolor\":\"white\",\"linecolor\":\"white\",\"ticks\":\"\"},\"caxis\":{\"gridcolor\":\"white\",\"linecolor\":\"white\",\"ticks\":\"\"}},\"coloraxis\":{\"colorbar\":{\"outlinewidth\":0,\"ticks\":\"\"}},\"colorscale\":{\"sequential\":[[0.0,\"#0d0887\"],[0.1111111111111111,\"#46039f\"],[0.2222222222222222,\"#7201a8\"],[0.3333333333333333,\"#9c179e\"],[0.4444444444444444,\"#bd3786\"],[0.5555555555555556,\"#d8576b\"],[0.6666666666666666,\"#ed7953\"],[0.7777777777777778,\"#fb9f3a\"],[0.8888888888888888,\"#fdca26\"],[1.0,\"#f0f921\"]],\"sequentialminus\":[[0.0,\"#0d0887\"],[0.1111111111111111,\"#46039f\"],[0.2222222222222222,\"#7201a8\"],[0.3333333333333333,\"#9c179e\"],[0.4444444444444444,\"#bd3786\"],[0.5555555555555556,\"#d8576b\"],[0.6666666666666666,\"#ed7953\"],[0.7777777777777778,\"#fb9f3a\"],[0.8888888888888888,\"#fdca26\"],[1.0,\"#f0f921\"]],\"diverging\":[[0,\"#8e0152\"],[0.1,\"#c51b7d\"],[0.2,\"#de77ae\"],[0.3,\"#f1b6da\"],[0.4,\"#fde0ef\"],[0.5,\"#f7f7f7\"],[0.6,\"#e6f5d0\"],[0.7,\"#b8e186\"],[0.8,\"#7fbc41\"],[0.9,\"#4d9221\"],[1,\"#276419\"]]},\"xaxis\":{\"gridcolor\":\"white\",\"linecolor\":\"white\",\"ticks\":\"\",\"title\":{\"standoff\":15},\"zerolinecolor\":\"white\",\"automargin\":true,\"zerolinewidth\":2},\"yaxis\":{\"gridcolor\":\"white\",\"linecolor\":\"white\",\"ticks\":\"\",\"title\":{\"standoff\":15},\"zerolinecolor\":\"white\",\"automargin\":true,\"zerolinewidth\":2},\"scene\":{\"xaxis\":{\"backgroundcolor\":\"#E5ECF6\",\"gridcolor\":\"white\",\"linecolor\":\"white\",\"showbackground\":true,\"ticks\":\"\",\"zerolinecolor\":\"white\",\"gridwidth\":2},\"yaxis\":{\"backgroundcolor\":\"#E5ECF6\",\"gridcolor\":\"white\",\"linecolor\":\"white\",\"showbackground\":true,\"ticks\":\"\",\"zerolinecolor\":\"white\",\"gridwidth\":2},\"zaxis\":{\"backgroundcolor\":\"#E5ECF6\",\"gridcolor\":\"white\",\"linecolor\":\"white\",\"showbackground\":true,\"ticks\":\"\",\"zerolinecolor\":\"white\",\"gridwidth\":2}},\"shapedefaults\":{\"line\":{\"color\":\"#2a3f5f\"}},\"annotationdefaults\":{\"arrowcolor\":\"#2a3f5f\",\"arrowhead\":0,\"arrowwidth\":1},\"geo\":{\"bgcolor\":\"white\",\"landcolor\":\"#E5ECF6\",\"subunitcolor\":\"white\",\"showland\":true,\"showlakes\":true,\"lakecolor\":\"white\"},\"title\":{\"x\":0.05},\"mapbox\":{\"style\":\"light\"}}},\"xaxis\":{\"anchor\":\"y\",\"domain\":[0.0,1.0],\"title\":{\"text\":\"Murder\"}},\"yaxis\":{\"anchor\":\"x\",\"domain\":[0.0,1.0],\"title\":{\"text\":\"Rape\"}},\"legend\":{\"tracegroupgap\":0},\"margin\":{\"t\":60}},                        {\"responsive\": true}                    ).then(function(){\n",
              "                            \n",
              "var gd = document.getElementById('eb0c0fc9-b4f5-46c7-a141-42f22ed73332');\n",
              "var x = new MutationObserver(function (mutations, observer) {{\n",
              "        var display = window.getComputedStyle(gd).display;\n",
              "        if (!display || display === 'none') {{\n",
              "            console.log([gd, 'removed!']);\n",
              "            Plotly.purge(gd);\n",
              "            observer.disconnect();\n",
              "        }}\n",
              "}});\n",
              "\n",
              "// Listen for the removal of the full notebook cells\n",
              "var notebookContainer = gd.closest('#notebook-container');\n",
              "if (notebookContainer) {{\n",
              "    x.observe(notebookContainer, {childList: true});\n",
              "}}\n",
              "\n",
              "// Listen for the clearing of the current output cell\n",
              "var outputEl = gd.closest('.output');\n",
              "if (outputEl) {{\n",
              "    x.observe(outputEl, {childList: true});\n",
              "}}\n",
              "\n",
              "                        })                };                            </script>        </div>\n",
              "</body>\n",
              "</html>"
            ]
          },
          "metadata": {}
        }
      ]
    },
    {
      "cell_type": "markdown",
      "metadata": {
        "id": "ciRilrfUbaKd"
      },
      "source": [
        "The goal of cluster analysis is to search for patterns in a data set by grouping the observations into clusters.\n",
        "In a good clustering, objects within clusters are similar and items in different clusters are dissimilar.\n",
        "For a data set with many features, we would like to use many relevant features to cluster the data.\n",
        "This makes clustering a type of <span><em>multivariate</em></span> analysis.\n",
        "Our variables are now a <span><strong>set</strong></span> of features, called <span><em>vectors</em></span>, that we will use to uncover latent structure in the data set.\n",
        "In cluster analysis we are looking for potential clusters (groups) that may (or may not) exist in the population.\n",
        "\n",
        "## What you will learn\n",
        "\n",
        "In the sections that follow you will learn about clustering and how clustering can help you find patterns in your data that you may not know exist.  \n",
        "We will study the following:\n",
        "\n",
        "- Hierarchical clustering\n",
        "- K-means clustering\n",
        "\n",
        "## When to use clustering\n",
        "\n",
        "Clustering is a multivariate technique that is useful when you want to use all relevant variables and observations to find patterns in the data.  \n",
        "In this way, we can find potential natural groupings that may (or may not) exist in the data."
      ]
    },
    {
      "cell_type": "markdown",
      "metadata": {
        "id": "9AoXjgYIbaKe"
      },
      "source": [
        "## Distance Measures"
      ]
    },
    {
      "cell_type": "markdown",
      "metadata": {
        "id": "Kou966VQbaKe"
      },
      "source": [
        "Let $\\mathbf{X}_i = (X_{1i}, X_{2i}, \\ldots, X_{pi})^\\prime$ be the $i$th observation vector.\n",
        "Whatever method of clustering we use, we must have some measure of similarity or dissimilarity in order to measure how close these multivariate measures are.\n",
        "One measure typically used is the simple Euclidean distance between two observations.\n",
        "The Euclidean distance between two $p$-dimensional observations, where $p$ is the number of features (variables) is\n",
        "\n",
        "$$d(\\mathbf{X}_i,\\mathbf{X}_j) = \\sqrt{(\\mathbf{X}_i-\\mathbf{X}_j)^\\prime(\\mathbf{X}_i-\\mathbf{X}_j)} = \\sqrt{\\sum_{k=1}^{p} (X_{ki} - X_{kj}^2)}$$"
      ]
    },
    {
      "cell_type": "markdown",
      "metadata": {
        "id": "Rar2dqlebaKe"
      },
      "source": [
        "## Hierarchical Clustering"
      ]
    },
    {
      "cell_type": "markdown",
      "metadata": {
        "id": "I4auGgWIbaKe"
      },
      "source": [
        "Suppose we have $n$ observation vectors each consisting of $p$ different features.\n",
        "In hierarchical clustering we start with $n$ clusters (one for each observation).\n",
        "At each step one cluster is absorbed into another, ending up with only one cluster.\n",
        "This method is not based on a probability model but is a data analysis technique.\n",
        "It is an attempt to be computationally efficient instead of looking at all possible ways of partitioning $n$ items into $g$ groups which is approximately $\\frac{g^n}{g!}$.\n",
        "Even for moderate $g$ and $n$ this number is computationally prohibitive.\n",
        "Once an item enters a cluster it can not be removed from that cluster in the hierarchical method.\n",
        "This process can also be done in reverse by starting with one cluster and splitting one cluster into two groups at each step until the final step results in $n$ groups."
      ]
    },
    {
      "cell_type": "markdown",
      "metadata": {
        "id": "3ERwqJm5baKe"
      },
      "source": [
        "_Agglomerative_ methods start with $n$ clusters and combine clusters at each step.\n",
        "The number of clusters shrinks and the clusters grow larger.\n",
        "_Divisive_ methods start with one cluster and at each step partition one cluster into two clusters, ending with $n$ clusters.\n",
        "For each approach, a decision must be made as to the optimal number of clusters.\n",
        "Often the appropriate number of clusters can be found by inspecting dendrograms.\n",
        "Figure 1 below shows a dendrogram of an agglomerative hierarchical clustering of statistics on assault, murder, and rape in each of the 50 US states in 1973.\n",
        "It shows the order in which the clusters are combined based on the level of the bar connecting them.\n",
        "The lower the level, the earlier the two clusters are combined.\n",
        "A horizontal line cutting through the dendrogram can be used to determine the number of clusters.\n",
        "For example, if a horizontal line were drawn at 6 on the vertical scale you would have 4 clusters."
      ]
    },
    {
      "cell_type": "markdown",
      "metadata": {
        "id": "06R8sIPIbaKe"
      },
      "source": [
        "In hierarchical clustering, at each step the distance between every two clusters is computed and the two closest clusters are combined.\n",
        "There are several options for defining the distance between clusters and each one can give slightly different clusters.\n",
        "\n"
      ]
    },
    {
      "cell_type": "markdown",
      "metadata": {
        "id": "NkYu7QTfbaKe"
      },
      "source": [
        "![image.png](https://pbs.twimg.com/media/GPv6n9eXoAAE_a2?format=png&name=medium)"
      ]
    },
    {
      "cell_type": "markdown",
      "metadata": {
        "id": "vGhCw5L9baKe"
      },
      "source": [
        "<center><b>Figure 1</b></center>\n",
        "<!-- __Figure 1__ -->\n",
        "<!-- <body>\n",
        "    <div class=\"img-box\">\n",
        "        <img src=\"images/den-1.jpg\" alt=\"img1\" style=\"width:100%\" />\n",
        "    </div>\n",
        "</body> -->"
      ]
    },
    {
      "cell_type": "markdown",
      "metadata": {
        "id": "9DLEvuNCbaKe"
      },
      "source": [
        "### Example: Hierarchical Clustering"
      ]
    },
    {
      "cell_type": "markdown",
      "metadata": {
        "id": "CXxlW4MKbaKe"
      },
      "source": [
        "The data in the table below are based on crime rates per 100,000 population for certain US cities."
      ]
    },
    {
      "cell_type": "markdown",
      "metadata": {
        "id": "y8C0JghAbaKe"
      },
      "source": [
        "<table>\n",
        "<thead>\n",
        "<tr class=\"header\">\n",
        "<th align=\"left\">City</th>\n",
        "<th align=\"right\">Murder</th>\n",
        "<th align=\"right\">Rape</th>\n",
        "<th align=\"right\">Robbery</th>\n",
        "<th align=\"right\">Assault</th>\n",
        "<th align=\"right\">Burglary</th>\n",
        "<th align=\"right\">Larceny</th>\n",
        "<th align=\"right\">Auto Theft</th>\n",
        "</tr>\n",
        "</thead>\n",
        "<tbody>\n",
        "<tr class=\"odd\">\n",
        "<td align=\"left\">Atlanta</td>\n",
        "<td align=\"right\">16.5</td>\n",
        "<td align=\"right\">24.8</td>\n",
        "<td align=\"right\">106</td>\n",
        "<td align=\"right\">147</td>\n",
        "<td align=\"right\">1112</td>\n",
        "<td align=\"right\">905</td>\n",
        "<td align=\"right\">494</td>\n",
        "</tr>\n",
        "<tr class=\"even\">\n",
        "<td align=\"left\">Boston</td>\n",
        "<td align=\"right\">4.2</td>\n",
        "<td align=\"right\">13.3</td>\n",
        "<td align=\"right\">122</td>\n",
        "<td align=\"right\">90</td>\n",
        "<td align=\"right\">982</td>\n",
        "<td align=\"right\">669</td>\n",
        "<td align=\"right\">954</td>\n",
        "</tr>\n",
        "<tr class=\"odd\">\n",
        "<td align=\"left\">Chicago</td>\n",
        "<td align=\"right\">11.6</td>\n",
        "<td align=\"right\">24.7</td>\n",
        "<td align=\"right\">340</td>\n",
        "<td align=\"right\">242</td>\n",
        "<td align=\"right\">808</td>\n",
        "<td align=\"right\">609</td>\n",
        "<td align=\"right\">645</td>\n",
        "</tr>\n",
        "<tr class=\"even\">\n",
        "<td align=\"left\">Dallas</td>\n",
        "<td align=\"right\">18.1</td>\n",
        "<td align=\"right\">34.2</td>\n",
        "<td align=\"right\">184</td>\n",
        "<td align=\"right\">293</td>\n",
        "<td align=\"right\">1668</td>\n",
        "<td align=\"right\">901</td>\n",
        "<td align=\"right\">602</td>\n",
        "</tr>\n",
        "<tr class=\"odd\">\n",
        "<td align=\"left\">Denver</td>\n",
        "<td align=\"right\">6.9</td>\n",
        "<td align=\"right\">41.5</td>\n",
        "<td align=\"right\">173</td>\n",
        "<td align=\"right\">191</td>\n",
        "<td align=\"right\">1534</td>\n",
        "<td align=\"right\">1368</td>\n",
        "<td align=\"right\">780</td>\n",
        "</tr>\n",
        "<tr class=\"even\">\n",
        "<td align=\"left\">Detroit</td>\n",
        "<td align=\"right\">13.0</td>\n",
        "<td align=\"right\">35.7</td>\n",
        "<td align=\"right\">477</td>\n",
        "<td align=\"right\">220</td>\n",
        "<td align=\"right\">1566</td>\n",
        "<td align=\"right\">1183</td>\n",
        "<td align=\"right\">788</td>\n",
        "</tr>\n",
        "</tbody>\n",
        "</table>"
      ]
    },
    {
      "cell_type": "markdown",
      "metadata": {
        "id": "bVmBB6owbaKf"
      },
      "source": [
        "At each step in the clustering, we will compute a distance matrix $\\mathbf{D}$.\n",
        "For the first step, the distance between each pair of cities is computed using Euclidean distance to get the distance matrix below."
      ]
    },
    {
      "cell_type": "markdown",
      "metadata": {
        "id": "JoDfgGXXbaKf"
      },
      "source": [
        "<table>\n",
        "<thead>\n",
        "<tr class=\"header\">\n",
        "<th align=\"left\">City</th>\n",
        "<th align=\"right\">Atlanta</th>\n",
        "<th align=\"right\">Boston</th>\n",
        "<th align=\"right\">Chicago</th>\n",
        "<th align=\"right\">Dallas</th>\n",
        "<th align=\"right\">Denver</th>\n",
        "<th align=\"right\">Detroit</th>\n",
        "</tr>\n",
        "</thead>\n",
        "<tbody>\n",
        "<tr class=\"odd\">\n",
        "    <td align=\"left\"><b>Atlanta</b></td>\n",
        "<td align=\"right\">0</td>\n",
        "<td align=\"right\">536.6</td>\n",
        "<td align=\"right\">516.4</td>\n",
        "<td align=\"right\">590.2</td>\n",
        "<td align=\"right\">693.6</td>\n",
        "<td align=\"right\">716.2</td>\n",
        "</tr>\n",
        "<tr class=\"even\">\n",
        "<td align=\"left\"><b>Boston</b></td>\n",
        "<td align=\"right\">536.6</td>\n",
        "<td align=\"right\">0</td>\n",
        "<td align=\"right\">447.4</td>\n",
        "<td align=\"right\">833.1</td>\n",
        "<td align=\"right\">915.0</td>\n",
        "<td align=\"right\">881.1</td>\n",
        "</tr>\n",
        "<tr class=\"odd\">\n",
        "<td align=\"left\"><b>Chicago</b></td>\n",
        "<td align=\"right\">516.4</td>\n",
        "<td align=\"right\">447.4</td>\n",
        "<td align=\"right\">0</td>\n",
        "<td align=\"right\">924.0</td>\n",
        "<td align=\"right\">1073.4</td>\n",
        "<td align=\"right\">971.5</td>\n",
        "</tr>\n",
        "<tr class=\"even\">\n",
        "<td align=\"left\"><b>Dallas</b></td>\n",
        "<td align=\"right\">590.2</td>\n",
        "<td align=\"right\">833.1</td>\n",
        "<td align=\"right\">924.0</td>\n",
        "<td align=\"right\">0</td>\n",
        "<td align=\"right\">527.7</td>\n",
        "<td align=\"right\">464.5</td>\n",
        "</tr>\n",
        "<tr class=\"odd\">\n",
        "<td align=\"left\"><b>Denver</b></td>\n",
        "<td align=\"right\">693.6</td>\n",
        "<td align=\"right\">915.0</td>\n",
        "<td align=\"right\">1073.4</td>\n",
        "<td align=\"right\">527.7</td>\n",
        "<td align=\"right\">0</td>\n",
        "<td align=\"right\"><font color=\"red\"> 358.7 </font></td>\n",
        "</tr>\n",
        "<tr class=\"even\">\n",
        "<td align=\"left\"><b>Detroit</b></td>\n",
        "<td align=\"right\">716.2</td>\n",
        "<td align=\"right\">881.1</td>\n",
        "<td align=\"right\">971.5</td>\n",
        "<td align=\"right\">464.5</td>\n",
        "<td align=\"right\"><font color=\"red\"> 358.7 </font></td>\n",
        "<td align=\"right\">0</td>\n",
        "</tr>\n",
        "</tbody>\n",
        "</table>"
      ]
    },
    {
      "cell_type": "markdown",
      "metadata": {
        "id": "OVfpSZHGbaKf"
      },
      "source": [
        "The smallest distance, <font color=\"red\"> 358.7 </font>, is between Denver and Detroit.\n",
        "These two cities are joined to form cluster $C_1 = \\{\\text{Denver},\\text{Detroit}\\}$.\n",
        "Next we will define a distance matrix between all cities and $C_1$.\n",
        "For this we need to define what we mean by the distance between clusters.\n",
        "Here we will use the _single linkage_ also known as nearest neighbor method, where the distance between two clusters $A$ and $B$ is defined as:\n",
        "\n",
        "$D(A,B) = \\text{ minimum Euclidean distance between members in } A \\text{ and members in } B$.\n",
        "\n",
        "Using this method we get the following distance matrix."
      ]
    },
    {
      "cell_type": "markdown",
      "metadata": {
        "id": "3bSLMmTQbaKf"
      },
      "source": [
        "<table>\n",
        "<thead>\n",
        "<tr class=\"header\">\n",
        "<th align=\"left\">Cluster</th>\n",
        "<th align=\"right\">Atlanta</th>\n",
        "<th align=\"right\">Boston</th>\n",
        "<th align=\"right\">Chicago</th>\n",
        "<th align=\"right\">Dallas</th>\n",
        "<th align=\"right\">$\\mathbf{C_1}$</th>\n",
        "</tr>\n",
        "</thead>\n",
        "<tbody>\n",
        "<tr class=\"odd\">\n",
        "<td align=\"left\"><b>Atlanta</b></td>\n",
        "<td align=\"right\">0</td>\n",
        "<td align=\"right\">536.6</td>\n",
        "<td align=\"right\">516.4</td>\n",
        "<td align=\"right\">590.2</td>\n",
        "<td align=\"right\"><font color=\"blue\"> 693.6 </font></td>\n",
        "</tr>\n",
        "<tr class=\"even\">\n",
        "<td align=\"left\"><b>Boston</b></td>\n",
        "<td align=\"right\">536.3</td>\n",
        "<td align=\"right\">0</td>\n",
        "<td align=\"right\"><font color=\"red\"> 447.4 </font></td>\n",
        "<td align=\"right\">833.1</td>\n",
        "<td align=\"right\"><font color=\"blue\"> 881.1 </font></td>\n",
        "</tr>\n",
        "<tr class=\"odd\">\n",
        "<td align=\"left\"><b>Chicago</b></td>\n",
        "<td align=\"right\">516.4</td>\n",
        "<td align=\"right\"><font color=\"red\"> 447.4 </font></td>\n",
        "<td align=\"right\">0</td>\n",
        "<td align=\"right\">924.0</td>\n",
        "<td align=\"right\"><font color=\"blue\"> 971.5 </font></td>\n",
        "</tr>\n",
        "<tr class=\"even\">\n",
        "    <td align=\"left\"><b>Dallas</b></td>\n",
        "<td align=\"right\">590.2</td>\n",
        "<td align=\"right\">833.1</td>\n",
        "<td align=\"right\">924.0</td>\n",
        "<td align=\"right\">0</td>\n",
        "<td align=\"right\"><font color=\"blue\"> 464.5 </font></td>\n",
        "</tr>\n",
        "<tr class=\"odd\">\n",
        "<td align=\"left\">$\\mathbf{C_1}$</td>\n",
        "    <td align=\"right\"><font color=\"blue\"> 693.6 </font></td>\n",
        "<td align=\"right\"><font color=\"blue\"> 881.1 </font></td>\n",
        "<td align=\"right\"><font color=\"blue\"> 971.5 </font></td>\n",
        "<td align=\"right\"><font color=\"blue\"> 464.5 </font></td>\n",
        "<td align=\"right\">0</td>\n",
        "</tr>\n",
        "</tbody>\n",
        "</table>"
      ]
    },
    {
      "cell_type": "markdown",
      "metadata": {
        "id": "xai15r4ybaKf"
      },
      "source": [
        "The distance from Atlanta to $C_1$ is <font color=\"blue\"> 693.6 </font> since the distance from Atlanta to Denver is 693.6 and from Atlanta to Detroit is bigger at 716.2 and the minimum distance is chosen. The distance from Boston to $C_1$ is similarly found: from Boston to Denver is 915.0 and from Boston to Detroit is 881.1. The numbers in blue in the distance matrix are the minimum from each city to Denver or Detroit. The smallest distance in the new matrix is between Boston and Chicago and so these are merged into $C_2 = \\{\\text{Boston}, \\text{Chicago}\\}$.\n",
        "\n",
        "The next distance matrix then becomes"
      ]
    },
    {
      "cell_type": "markdown",
      "metadata": {
        "id": "OillrCBGbaKf"
      },
      "source": [
        "<table>\n",
        "<thead>\n",
        "<tr class=\"header\">\n",
        "<th align=\"left\">Cluster</th>\n",
        "<th align=\"right\">Atlanta</th>\n",
        "<th align=\"right\"><span class=\"math inline\">$\\mathbf{C_2}$</th>\n",
        "<th align=\"right\">Dallas</th>\n",
        "<th align=\"right\"><span class=\"math inline\">$\\mathbf{C_1}$</th>\n",
        "</tr>\n",
        "</thead>\n",
        "<tbody>\n",
        "<tr class=\"odd\">\n",
        "    <td align=\"left\"><b>Atlanta</b></td>\n",
        "<td align=\"right\">0</td>\n",
        "<td align=\"right\">516.4</td>\n",
        "<td align=\"right\">590.2</td>\n",
        "<td align=\"right\">693.6</td>\n",
        "</tr>\n",
        "<tr class=\"even\">\n",
        "<td align=\"left\"><span class=\"math inline\">$\\mathbf{C_2}$</td>\n",
        "<td align=\"right\">516.4</td>\n",
        "<td align=\"right\">0</td>\n",
        "<td align=\"right\">833.1</td>\n",
        "<td align=\"right\">881.1</td>\n",
        "</tr>\n",
        "<tr class=\"odd\">\n",
        "    <td align=\"left\"><b>Dallas</b></td>\n",
        "<td align=\"right\">590.2</td>\n",
        "<td align=\"right\">833.1</td>\n",
        "<td align=\"right\">0</td>\n",
        "<td align=\"right\"><font color=\"red\"> 464.5 </font></td>\n",
        "</tr>\n",
        "<tr class=\"even\">\n",
        "<td align=\"left\"><span class=\"math inline\">$\\mathbf{C_1}$</td>\n",
        "<td align=\"right\">693.1</td>\n",
        "<td align=\"right\">881.1</td>\n",
        "<td align=\"right\"><font color=\"red\"> 464.5 </font></td>\n",
        "<td align=\"right\">0</td>\n",
        "</tr>\n",
        "</tbody>\n",
        "</table>"
      ]
    },
    {
      "cell_type": "markdown",
      "metadata": {
        "id": "TT2FaG7gbaKf"
      },
      "source": [
        "Now the smallest distance is <font color=\"red\"> 464.5 </font> between Dallas and $C_1$, so the new cluster formed is $C_3 = \\{\\text{Dallas}, C_1\\}$. The new distance matrix is now the one below."
      ]
    },
    {
      "cell_type": "markdown",
      "metadata": {
        "id": "lLywM6MMbaKf"
      },
      "source": [
        "<table>\n",
        "<thead>\n",
        "<tr class=\"header\">\n",
        "<th align=\"left\">Cluster</th>\n",
        "<th align=\"right\">Atlanta</th>\n",
        "<th align=\"right\">$\\mathbf{C_2}$</th>\n",
        "<th align=\"right\">$\\mathbf{C_3}$</th>\n",
        "</tr>\n",
        "</thead>\n",
        "<tbody>\n",
        "<tr class=\"odd\">\n",
        "    <td align=\"left\"><b>Atlanta</b></td>\n",
        "<td align=\"right\">0</td>\n",
        "<td align=\"right\"><font color=\"red\"> 516.4 </font></td>\n",
        "<td align=\"right\">590.2</td>\n",
        "</tr>\n",
        "<tr class=\"even\">\n",
        "<td align=\"left\">$\\mathbf{C_2}$</td>\n",
        "<td align=\"right\"><font color=\"red\"> 516.4 </font></td>\n",
        "<td align=\"right\">0</td>\n",
        "<td align=\"right\">833.1</td>\n",
        "</tr>\n",
        "<tr class=\"odd\">\n",
        "<td align=\"left\">$\\mathbf{C_3}$</td>\n",
        "<td align=\"right\">590.2</td>\n",
        "<td align=\"right\">833.1</td>\n",
        "<td align=\"right\">0</td>\n",
        "</tr>\n",
        "</tbody>\n",
        "</table>"
      ]
    },
    {
      "cell_type": "markdown",
      "metadata": {
        "id": "lnmZ2WTgbaKf"
      },
      "source": [
        "We combine Atlanta and $C_2$ since the distance between them is the smallest. The newly created cluster is $C_4 = \\{\\text{Atlanta},C_2\\}$.\n",
        "\n",
        "The final distance matrix is then"
      ]
    },
    {
      "cell_type": "markdown",
      "metadata": {
        "id": "YpbAY8TabaKf"
      },
      "source": [
        "<table>\n",
        "<thead>\n",
        "<tr class=\"header\">\n",
        "<th align=\"left\">Cluster</th>\n",
        "<th align=\"right\">$\\mathbf{C_4}$</th>\n",
        "<th align=\"right\">$\\mathbf{C_3}$</th>\n",
        "</tr>\n",
        "</thead>\n",
        "<tbody>\n",
        "<tr class=\"odd\">\n",
        "<td align=\"left\">$\\mathbf{C_4}$</td>\n",
        "<td align=\"right\">0</td>\n",
        "    <td align=\"right\"><font color=\"red\"> 590.2 </font></td>\n",
        "</tr>\n",
        "<tr class=\"even\">\n",
        "<td align=\"left\">$\\mathbf{C_3}$</td>\n",
        "<td align=\"right\"><font color=\"red\"> 590.2 </font></td>\n",
        "<td align=\"right\">0</td>\n",
        "</tr>\n",
        "</tbody>\n",
        "</table>"
      ]
    },
    {
      "cell_type": "markdown",
      "metadata": {
        "id": "YIfzlwfUbaKg"
      },
      "source": [
        "The final cluster is then $C_5 = \\{C_3,C_4\\}$.\n",
        "The dendrogram for this clustering is shown in Figure 2 below.\n",
        "The bar where two clusters are joined is at the level equal to the distance between them."
      ]
    },
    {
      "cell_type": "markdown",
      "metadata": {
        "id": "ubnX6VjNbaKg"
      },
      "source": [
        "![cluster2.png](https://pbs.twimg.com/media/GPv6meoWMAAC7IK?format=png&name=large)"
      ]
    },
    {
      "cell_type": "markdown",
      "metadata": {
        "id": "3MN0BGBibaKg"
      },
      "source": [
        "<center><b>Figure 2</b></center>"
      ]
    },
    {
      "cell_type": "markdown",
      "metadata": {
        "id": "8-MVdTH_baKg"
      },
      "source": [
        "### Programming Example"
      ]
    },
    {
      "cell_type": "markdown",
      "metadata": {
        "id": "DJDlDm3GbaKg"
      },
      "source": [
        "The `crime.csv` dataset contains the following 8 variables:\n",
        "\n",
        "\n",
        "| Variable   | Type    | Description                              |\n",
        "|:------------|:---------|:------------------------------------------|\n",
        "| City       | Nominal | US City                                  |\n",
        "| Murder     | Ratio   | number of murders per 100,000 people     |\n",
        "| Rape       | Ratio   | number of rapes per 100,000 people       |\n",
        "| Robbery    | Ratio   | number of robberies per 100,000 people   |\n",
        "| Assault    | Ratio   | number of assaults per 100,000 people     |\n",
        "| Burglary   | Ratio   | number of burglaries per 100,000 people  |\n",
        "| Larceny    | Ratio   | number of larcenies per 100,000 people   |\n",
        "| Auto Theft | Ratio   | number of auto thefts per 100,000 people |\n",
        "|            |         |                                          |\n",
        "\n",
        "Since each city is only listed once, `City` isn't a predictor - it is an identifier (ID).\n",
        "Anytime you have a variable that never repeats a value, you should consider it to be some kind of identifier.\n",
        "\n",
        "<!-- Import `pandas` as `pd`. Use the function `read_csv` in `pandas` to read in the `crime.csv` dataset and name it `dta_crime`.\n",
        "\n",
        "__Note__: The variable names are found in the file and the first column is the index column (`index_col=0`). -->\n",
        "\n",
        "To load the data into a dataframe, we need to import `pandas`:\n",
        "\n",
        "- `import pandas as pd`"
      ]
    },
    {
      "cell_type": "code",
      "execution_count": null,
      "metadata": {
        "id": "Hz3jNtzmbaKg"
      },
      "outputs": [],
      "source": [
        "import pandas as pd\n",
        "\n",
        "#<xml xmlns=\"https://developers.google.com/blockly/xml\"><variables><variable id=\"cln2y5W-Js_!Lv!XvfTs\">pd</variable></variables><block type=\"importAs_Python\" id=\"`b|$cw8I5+yMtL$JgH{E\" x=\"45\" y=\"-2\"><field name=\"libraryName\">pandas</field><field name=\"libraryAlias\" id=\"cln2y5W-Js_!Lv!XvfTs\">pd</field></block></xml>"
      ]
    },
    {
      "cell_type": "markdown",
      "metadata": {
        "id": "3k_Eai_4baKg"
      },
      "source": [
        "To load the data using `City` is an ID:\n",
        "    \n",
        "- Set `dta_crime` to with `pd` do `read_csv` using`\n",
        "    - `\"datasets/crime.csv\"`\n",
        "    - freestyle `index_col=\"City\"` **(`pandas` calls IDs *indexes*)**\n",
        "- `dta_crime` (for display)\n",
        "\n",
        "**We need `index_col` to tell pandas that `City` is an ID column, not a data column**"
      ]
    },
    {
      "cell_type": "code",
      "execution_count": null,
      "metadata": {
        "id": "7AWU19jkbaKg",
        "outputId": "1ecd6ed4-f698-42b8-a095-26903e418307"
      },
      "outputs": [
        {
          "name": "stdout",
          "output_type": "stream",
          "text": [
            "         Murder  Rape  Robbery  Assault  Burglary  Larceny  Auto Theft\n",
            "City                                                                  \n",
            "Atlanta    16.5  24.8      106      147      1112      905         494\n",
            "Boston      4.2  13.3      122       90       982      669         954\n",
            "Chicago    11.6  24.7      340      242       808      609         645\n",
            "Dallas     18.1  34.2      184      293      1668      901         602\n",
            "Denver      6.9  41.5      173      191      1534     1368         780\n",
            "Detroit    13.0  35.7      477      220      1566     1183         788\n"
          ]
        }
      ],
      "source": [
        "dta_crime = pd.read_csv('datasets/crime.csv',index_col=\"City\")\n",
        "\n",
        "\n",
        "print(dta_crime)\n",
        "\n",
        "#<xml xmlns=\"https://developers.google.com/blockly/xml\"><variables><variable id=\"%=I(Y@y7)V7$byL5_`VZ\">dta_crime</variable><variable id=\"cln2y5W-Js_!Lv!XvfTs\">pd</variable></variables><block type=\"variables_set\" id=\"dR[!N@Ole5JbG,tQItg*\" x=\"23\" y=\"49\"><field name=\"VAR\" id=\"%=I(Y@y7)V7$byL5_`VZ\">dta_crime</field><value name=\"VALUE\"><block type=\"varDoMethod_Python\" id=\"^GxByOuGAW:k[M)2o;~?\"><mutation items=\"2\"></mutation><field name=\"VAR\" id=\"cln2y5W-Js_!Lv!XvfTs\">pd</field><field name=\"MEMBER\">read_csv</field><data>pd:read_csv</data><value name=\"ADD0\"><block type=\"text\" id=\"Fdcd[^}s=DmP)S`e8Ycs\"><field name=\"TEXT\">datasets/crime.csv</field></block></value><value name=\"ADD1\"><block type=\"dummyOutputCodeBlock_Python\" id=\"g}XD+gJt2R|3*(r_eOIR\"><field name=\"CODE\">index_col=\"City\"</field></block></value></block></value><next><block type=\"text_print\" id=\"$u~e]lh)`BNOTE^Y-U{N\"><value name=\"TEXT\"><shadow type=\"text\" id=\"x-aa+9x~O/[WJ1{E!]uM\"><field name=\"TEXT\">abc</field></shadow><block type=\"variables_get\" id=\"x_2{5`$R3P+C7#:VJ=zL\"><field name=\"VAR\" id=\"%=I(Y@y7)V7$byL5_`VZ\">dta_crime</field></block></value></block></next></block></xml>"
      ]
    },
    {
      "cell_type": "code",
      "execution_count": null,
      "metadata": {
        "id": "zfhd2fcjbaKg"
      },
      "outputs": [],
      "source": [
        "def calc(f,a):\n",
        "    return f(a)\n"
      ]
    },
    {
      "cell_type": "code",
      "execution_count": null,
      "metadata": {
        "id": "Ynfi7KivbaKg",
        "outputId": "7afd4cd7-b06b-441a-f8ee-8861ffd29978"
      },
      "outputs": [
        {
          "data": {
            "text/plain": [
              "121"
            ]
          },
          "execution_count": 63,
          "metadata": {},
          "output_type": "execute_result"
        }
      ],
      "source": [
        "def pwr(x):\n",
        "    return x*x\n",
        "calc(pwr,11)"
      ]
    },
    {
      "cell_type": "code",
      "execution_count": null,
      "metadata": {
        "id": "1oOuTebEbaKk",
        "outputId": "63c2f1a2-4c40-44f2-c2a7-6da13cbd5896"
      },
      "outputs": [
        {
          "data": {
            "text/plain": [
              "121"
            ]
          },
          "execution_count": 64,
          "metadata": {},
          "output_type": "execute_result"
        }
      ],
      "source": [
        "calc(lambda x:x*x,11)"
      ]
    },
    {
      "cell_type": "markdown",
      "metadata": {
        "id": "viRvo9tfbaKk"
      },
      "source": [
        "We have a couple of different options here for clustering:\n",
        "\n",
        "- Create a distance matrix ourselves, then iteratively update it as in the example above to produce clusters (`squareform(pdist(dta_crime))`)\n",
        "- Use a python library that iterates over the dataframe to make clusters (` linkage(dta_crime, 'single')`)\n",
        "- Use `plotly` to both compute the clusters and draw them for us at the same time\n",
        "\n",
        "The last option with `plotly` seems the best, but we need to introduce one concept first, **lambda functions**.\n",
        "\n",
        "A lambda function is just an anonymous function.\n",
        "So now we just need to explain what a function is!\n",
        "\n",
        "You've seen functions before in math class.\n",
        "A common example is $f(x) = x + 1$.\n",
        "$f$ is a function, and when we give it an $x$, it gives us back a number that is $x+1$.\n",
        "\n",
        "In programming, functions are very similar, but you can give them non-numbers and get back non-numbers.\n",
        "You can also give them many things at the same time and get back many things at the same time.\n",
        "In fact, we've been using functions all along - when you do `with pd do read_csv using` you are calling the function `read_csv` and giving it whatever is in `using` (normally the name of the data file).\n",
        "\n",
        "What we *haven't* done up to this point is create a function ourselves.\n",
        "Fortunately, lamba functions look a lot like the math functions you are familiar with:\n",
        "\n",
        "`lambda x : x + 1`\n",
        "\n",
        "is the same as\n",
        "\n",
        "$f(x) = x + 1$\n",
        "\n",
        "Notice we replaced $f(x) =$ with `lambda x :`.\n",
        "Everything else is the same.\n",
        "\n",
        "Let's use `plotly` with a lambda function!\n",
        "\n",
        "First, the imports:\n",
        "\n",
        "- `import plotly.figure_factory as ff`\n",
        "- `from scipy.cluster.hierarchy import linkage`\n",
        "\n",
        "**Notice the second import is a different kind, but you rarely want to do it this way with Blockly.**"
      ]
    },
    {
      "cell_type": "code",
      "execution_count": null,
      "metadata": {
        "id": "4aRWAunObaKk"
      },
      "outputs": [],
      "source": [
        "from scipy.cluster.hierarchy import linkage\n",
        "import plotly.figure_factory as ff\n",
        "\n",
        "#<xml xmlns=\"https://developers.google.com/blockly/xml\"><variables><variable id=\"~w_#2L;73`MvL%o{Aauj\">linkage</variable><variable id=\"Zj7)98L%$3=^m0RFTpsE\">ff</variable></variables><block type=\"importFrom_Python\" id=\"9:j_C?]Q#q4=)28[tKRp\" x=\"52\" y=\"29\"><field name=\"libraryName\">scipy.cluster.hierarchy</field><field name=\"libraryAlias\" id=\"~w_#2L;73`MvL%o{Aauj\">linkage</field><next><block type=\"importAs_Python\" id=\"s^jIajxkso0HJgdi=?L.\"><field name=\"libraryName\">plotly.figure_factory</field><field name=\"libraryAlias\" id=\"Zj7)98L%$3=^m0RFTpsE\">ff</field></block></next></block></xml>"
      ]
    },
    {
      "cell_type": "markdown",
      "metadata": {
        "id": "vevh3bDfbaKk"
      },
      "source": [
        "Now let's use the `create_dendrogram` function in `plotly.figure_factory`:\n",
        "\n",
        "- with `ff` do `create_dendrogram` using\n",
        "    - `dta_crime`\n",
        "    - freestyle `labels=dta_crime.index` (so our labels are cities)\n",
        "    - freestyle `linkagefun=lambda x: linkage(dta_crime, 'single', metric='euclidean')` (the linkage function, which is single linkage with Euclidean distance)\n",
        "  "
      ]
    },
    {
      "cell_type": "code",
      "execution_count": null,
      "metadata": {
        "id": "VAbhj3QdbaKk",
        "outputId": "cfce32d2-1e56-4af6-f44c-32f3d0e99701"
      },
      "outputs": [
        {
          "data": {
            "application/vnd.plotly.v1+json": {
              "config": {
                "plotlyServerURL": "https://plot.ly"
              },
              "data": [
                {
                  "hoverinfo": "text",
                  "marker": {
                    "color": "rgb(61,153,112)"
                  },
                  "mode": "lines",
                  "type": "scatter",
                  "x": [
                    15,
                    15,
                    25,
                    25
                  ],
                  "xaxis": "x",
                  "y": [
                    0,
                    358.66537329382663,
                    358.66537329382663,
                    0
                  ],
                  "yaxis": "y"
                },
                {
                  "hoverinfo": "text",
                  "marker": {
                    "color": "rgb(0,116,217)"
                  },
                  "mode": "lines",
                  "type": "scatter",
                  "x": [
                    5,
                    5,
                    20,
                    20
                  ],
                  "xaxis": "x",
                  "y": [
                    0,
                    464.4677168544656,
                    464.4677168544656,
                    358.66537329382663
                  ],
                  "yaxis": "y"
                },
                {
                  "hoverinfo": "text",
                  "marker": {
                    "color": "rgb(0,116,217)"
                  },
                  "mode": "lines",
                  "type": "scatter",
                  "x": [
                    45,
                    45,
                    55,
                    55
                  ],
                  "xaxis": "x",
                  "y": [
                    0,
                    447.4033079895588,
                    447.4033079895588,
                    0
                  ],
                  "yaxis": "y"
                },
                {
                  "hoverinfo": "text",
                  "marker": {
                    "color": "rgb(0,116,217)"
                  },
                  "mode": "lines",
                  "type": "scatter",
                  "x": [
                    35,
                    35,
                    50,
                    50
                  ],
                  "xaxis": "x",
                  "y": [
                    0,
                    516.3700417336389,
                    516.3700417336389,
                    447.4033079895588
                  ],
                  "yaxis": "y"
                },
                {
                  "hoverinfo": "text",
                  "marker": {
                    "color": "rgb(0,116,217)"
                  },
                  "mode": "lines",
                  "type": "scatter",
                  "x": [
                    12.5,
                    12.5,
                    42.5,
                    42.5
                  ],
                  "xaxis": "x",
                  "y": [
                    464.4677168544656,
                    590.1753298808753,
                    590.1753298808753,
                    516.3700417336389
                  ],
                  "yaxis": "y"
                }
              ],
              "layout": {
                "autosize": false,
                "height": 360,
                "hovermode": "closest",
                "showlegend": false,
                "template": {
                  "data": {
                    "bar": [
                      {
                        "error_x": {
                          "color": "#2a3f5f"
                        },
                        "error_y": {
                          "color": "#2a3f5f"
                        },
                        "marker": {
                          "line": {
                            "color": "#E5ECF6",
                            "width": 0.5
                          },
                          "pattern": {
                            "fillmode": "overlay",
                            "size": 10,
                            "solidity": 0.2
                          }
                        },
                        "type": "bar"
                      }
                    ],
                    "barpolar": [
                      {
                        "marker": {
                          "line": {
                            "color": "#E5ECF6",
                            "width": 0.5
                          },
                          "pattern": {
                            "fillmode": "overlay",
                            "size": 10,
                            "solidity": 0.2
                          }
                        },
                        "type": "barpolar"
                      }
                    ],
                    "carpet": [
                      {
                        "aaxis": {
                          "endlinecolor": "#2a3f5f",
                          "gridcolor": "white",
                          "linecolor": "white",
                          "minorgridcolor": "white",
                          "startlinecolor": "#2a3f5f"
                        },
                        "baxis": {
                          "endlinecolor": "#2a3f5f",
                          "gridcolor": "white",
                          "linecolor": "white",
                          "minorgridcolor": "white",
                          "startlinecolor": "#2a3f5f"
                        },
                        "type": "carpet"
                      }
                    ],
                    "choropleth": [
                      {
                        "colorbar": {
                          "outlinewidth": 0,
                          "ticks": ""
                        },
                        "type": "choropleth"
                      }
                    ],
                    "contour": [
                      {
                        "colorbar": {
                          "outlinewidth": 0,
                          "ticks": ""
                        },
                        "colorscale": [
                          [
                            0,
                            "#0d0887"
                          ],
                          [
                            0.1111111111111111,
                            "#46039f"
                          ],
                          [
                            0.2222222222222222,
                            "#7201a8"
                          ],
                          [
                            0.3333333333333333,
                            "#9c179e"
                          ],
                          [
                            0.4444444444444444,
                            "#bd3786"
                          ],
                          [
                            0.5555555555555556,
                            "#d8576b"
                          ],
                          [
                            0.6666666666666666,
                            "#ed7953"
                          ],
                          [
                            0.7777777777777778,
                            "#fb9f3a"
                          ],
                          [
                            0.8888888888888888,
                            "#fdca26"
                          ],
                          [
                            1,
                            "#f0f921"
                          ]
                        ],
                        "type": "contour"
                      }
                    ],
                    "contourcarpet": [
                      {
                        "colorbar": {
                          "outlinewidth": 0,
                          "ticks": ""
                        },
                        "type": "contourcarpet"
                      }
                    ],
                    "heatmap": [
                      {
                        "colorbar": {
                          "outlinewidth": 0,
                          "ticks": ""
                        },
                        "colorscale": [
                          [
                            0,
                            "#0d0887"
                          ],
                          [
                            0.1111111111111111,
                            "#46039f"
                          ],
                          [
                            0.2222222222222222,
                            "#7201a8"
                          ],
                          [
                            0.3333333333333333,
                            "#9c179e"
                          ],
                          [
                            0.4444444444444444,
                            "#bd3786"
                          ],
                          [
                            0.5555555555555556,
                            "#d8576b"
                          ],
                          [
                            0.6666666666666666,
                            "#ed7953"
                          ],
                          [
                            0.7777777777777778,
                            "#fb9f3a"
                          ],
                          [
                            0.8888888888888888,
                            "#fdca26"
                          ],
                          [
                            1,
                            "#f0f921"
                          ]
                        ],
                        "type": "heatmap"
                      }
                    ],
                    "heatmapgl": [
                      {
                        "colorbar": {
                          "outlinewidth": 0,
                          "ticks": ""
                        },
                        "colorscale": [
                          [
                            0,
                            "#0d0887"
                          ],
                          [
                            0.1111111111111111,
                            "#46039f"
                          ],
                          [
                            0.2222222222222222,
                            "#7201a8"
                          ],
                          [
                            0.3333333333333333,
                            "#9c179e"
                          ],
                          [
                            0.4444444444444444,
                            "#bd3786"
                          ],
                          [
                            0.5555555555555556,
                            "#d8576b"
                          ],
                          [
                            0.6666666666666666,
                            "#ed7953"
                          ],
                          [
                            0.7777777777777778,
                            "#fb9f3a"
                          ],
                          [
                            0.8888888888888888,
                            "#fdca26"
                          ],
                          [
                            1,
                            "#f0f921"
                          ]
                        ],
                        "type": "heatmapgl"
                      }
                    ],
                    "histogram": [
                      {
                        "marker": {
                          "pattern": {
                            "fillmode": "overlay",
                            "size": 10,
                            "solidity": 0.2
                          }
                        },
                        "type": "histogram"
                      }
                    ],
                    "histogram2d": [
                      {
                        "colorbar": {
                          "outlinewidth": 0,
                          "ticks": ""
                        },
                        "colorscale": [
                          [
                            0,
                            "#0d0887"
                          ],
                          [
                            0.1111111111111111,
                            "#46039f"
                          ],
                          [
                            0.2222222222222222,
                            "#7201a8"
                          ],
                          [
                            0.3333333333333333,
                            "#9c179e"
                          ],
                          [
                            0.4444444444444444,
                            "#bd3786"
                          ],
                          [
                            0.5555555555555556,
                            "#d8576b"
                          ],
                          [
                            0.6666666666666666,
                            "#ed7953"
                          ],
                          [
                            0.7777777777777778,
                            "#fb9f3a"
                          ],
                          [
                            0.8888888888888888,
                            "#fdca26"
                          ],
                          [
                            1,
                            "#f0f921"
                          ]
                        ],
                        "type": "histogram2d"
                      }
                    ],
                    "histogram2dcontour": [
                      {
                        "colorbar": {
                          "outlinewidth": 0,
                          "ticks": ""
                        },
                        "colorscale": [
                          [
                            0,
                            "#0d0887"
                          ],
                          [
                            0.1111111111111111,
                            "#46039f"
                          ],
                          [
                            0.2222222222222222,
                            "#7201a8"
                          ],
                          [
                            0.3333333333333333,
                            "#9c179e"
                          ],
                          [
                            0.4444444444444444,
                            "#bd3786"
                          ],
                          [
                            0.5555555555555556,
                            "#d8576b"
                          ],
                          [
                            0.6666666666666666,
                            "#ed7953"
                          ],
                          [
                            0.7777777777777778,
                            "#fb9f3a"
                          ],
                          [
                            0.8888888888888888,
                            "#fdca26"
                          ],
                          [
                            1,
                            "#f0f921"
                          ]
                        ],
                        "type": "histogram2dcontour"
                      }
                    ],
                    "mesh3d": [
                      {
                        "colorbar": {
                          "outlinewidth": 0,
                          "ticks": ""
                        },
                        "type": "mesh3d"
                      }
                    ],
                    "parcoords": [
                      {
                        "line": {
                          "colorbar": {
                            "outlinewidth": 0,
                            "ticks": ""
                          }
                        },
                        "type": "parcoords"
                      }
                    ],
                    "pie": [
                      {
                        "automargin": true,
                        "type": "pie"
                      }
                    ],
                    "scatter": [
                      {
                        "fillpattern": {
                          "fillmode": "overlay",
                          "size": 10,
                          "solidity": 0.2
                        },
                        "type": "scatter"
                      }
                    ],
                    "scatter3d": [
                      {
                        "line": {
                          "colorbar": {
                            "outlinewidth": 0,
                            "ticks": ""
                          }
                        },
                        "marker": {
                          "colorbar": {
                            "outlinewidth": 0,
                            "ticks": ""
                          }
                        },
                        "type": "scatter3d"
                      }
                    ],
                    "scattercarpet": [
                      {
                        "marker": {
                          "colorbar": {
                            "outlinewidth": 0,
                            "ticks": ""
                          }
                        },
                        "type": "scattercarpet"
                      }
                    ],
                    "scattergeo": [
                      {
                        "marker": {
                          "colorbar": {
                            "outlinewidth": 0,
                            "ticks": ""
                          }
                        },
                        "type": "scattergeo"
                      }
                    ],
                    "scattergl": [
                      {
                        "marker": {
                          "colorbar": {
                            "outlinewidth": 0,
                            "ticks": ""
                          }
                        },
                        "type": "scattergl"
                      }
                    ],
                    "scattermapbox": [
                      {
                        "marker": {
                          "colorbar": {
                            "outlinewidth": 0,
                            "ticks": ""
                          }
                        },
                        "type": "scattermapbox"
                      }
                    ],
                    "scatterpolar": [
                      {
                        "marker": {
                          "colorbar": {
                            "outlinewidth": 0,
                            "ticks": ""
                          }
                        },
                        "type": "scatterpolar"
                      }
                    ],
                    "scatterpolargl": [
                      {
                        "marker": {
                          "colorbar": {
                            "outlinewidth": 0,
                            "ticks": ""
                          }
                        },
                        "type": "scatterpolargl"
                      }
                    ],
                    "scatterternary": [
                      {
                        "marker": {
                          "colorbar": {
                            "outlinewidth": 0,
                            "ticks": ""
                          }
                        },
                        "type": "scatterternary"
                      }
                    ],
                    "surface": [
                      {
                        "colorbar": {
                          "outlinewidth": 0,
                          "ticks": ""
                        },
                        "colorscale": [
                          [
                            0,
                            "#0d0887"
                          ],
                          [
                            0.1111111111111111,
                            "#46039f"
                          ],
                          [
                            0.2222222222222222,
                            "#7201a8"
                          ],
                          [
                            0.3333333333333333,
                            "#9c179e"
                          ],
                          [
                            0.4444444444444444,
                            "#bd3786"
                          ],
                          [
                            0.5555555555555556,
                            "#d8576b"
                          ],
                          [
                            0.6666666666666666,
                            "#ed7953"
                          ],
                          [
                            0.7777777777777778,
                            "#fb9f3a"
                          ],
                          [
                            0.8888888888888888,
                            "#fdca26"
                          ],
                          [
                            1,
                            "#f0f921"
                          ]
                        ],
                        "type": "surface"
                      }
                    ],
                    "table": [
                      {
                        "cells": {
                          "fill": {
                            "color": "#EBF0F8"
                          },
                          "line": {
                            "color": "white"
                          }
                        },
                        "header": {
                          "fill": {
                            "color": "#C8D4E3"
                          },
                          "line": {
                            "color": "white"
                          }
                        },
                        "type": "table"
                      }
                    ]
                  },
                  "layout": {
                    "annotationdefaults": {
                      "arrowcolor": "#2a3f5f",
                      "arrowhead": 0,
                      "arrowwidth": 1
                    },
                    "autotypenumbers": "strict",
                    "coloraxis": {
                      "colorbar": {
                        "outlinewidth": 0,
                        "ticks": ""
                      }
                    },
                    "colorscale": {
                      "diverging": [
                        [
                          0,
                          "#8e0152"
                        ],
                        [
                          0.1,
                          "#c51b7d"
                        ],
                        [
                          0.2,
                          "#de77ae"
                        ],
                        [
                          0.3,
                          "#f1b6da"
                        ],
                        [
                          0.4,
                          "#fde0ef"
                        ],
                        [
                          0.5,
                          "#f7f7f7"
                        ],
                        [
                          0.6,
                          "#e6f5d0"
                        ],
                        [
                          0.7,
                          "#b8e186"
                        ],
                        [
                          0.8,
                          "#7fbc41"
                        ],
                        [
                          0.9,
                          "#4d9221"
                        ],
                        [
                          1,
                          "#276419"
                        ]
                      ],
                      "sequential": [
                        [
                          0,
                          "#0d0887"
                        ],
                        [
                          0.1111111111111111,
                          "#46039f"
                        ],
                        [
                          0.2222222222222222,
                          "#7201a8"
                        ],
                        [
                          0.3333333333333333,
                          "#9c179e"
                        ],
                        [
                          0.4444444444444444,
                          "#bd3786"
                        ],
                        [
                          0.5555555555555556,
                          "#d8576b"
                        ],
                        [
                          0.6666666666666666,
                          "#ed7953"
                        ],
                        [
                          0.7777777777777778,
                          "#fb9f3a"
                        ],
                        [
                          0.8888888888888888,
                          "#fdca26"
                        ],
                        [
                          1,
                          "#f0f921"
                        ]
                      ],
                      "sequentialminus": [
                        [
                          0,
                          "#0d0887"
                        ],
                        [
                          0.1111111111111111,
                          "#46039f"
                        ],
                        [
                          0.2222222222222222,
                          "#7201a8"
                        ],
                        [
                          0.3333333333333333,
                          "#9c179e"
                        ],
                        [
                          0.4444444444444444,
                          "#bd3786"
                        ],
                        [
                          0.5555555555555556,
                          "#d8576b"
                        ],
                        [
                          0.6666666666666666,
                          "#ed7953"
                        ],
                        [
                          0.7777777777777778,
                          "#fb9f3a"
                        ],
                        [
                          0.8888888888888888,
                          "#fdca26"
                        ],
                        [
                          1,
                          "#f0f921"
                        ]
                      ]
                    },
                    "colorway": [
                      "#636efa",
                      "#EF553B",
                      "#00cc96",
                      "#ab63fa",
                      "#FFA15A",
                      "#19d3f3",
                      "#FF6692",
                      "#B6E880",
                      "#FF97FF",
                      "#FECB52"
                    ],
                    "font": {
                      "color": "#2a3f5f"
                    },
                    "geo": {
                      "bgcolor": "white",
                      "lakecolor": "white",
                      "landcolor": "#E5ECF6",
                      "showlakes": true,
                      "showland": true,
                      "subunitcolor": "white"
                    },
                    "hoverlabel": {
                      "align": "left"
                    },
                    "hovermode": "closest",
                    "mapbox": {
                      "style": "light"
                    },
                    "paper_bgcolor": "white",
                    "plot_bgcolor": "#E5ECF6",
                    "polar": {
                      "angularaxis": {
                        "gridcolor": "white",
                        "linecolor": "white",
                        "ticks": ""
                      },
                      "bgcolor": "#E5ECF6",
                      "radialaxis": {
                        "gridcolor": "white",
                        "linecolor": "white",
                        "ticks": ""
                      }
                    },
                    "scene": {
                      "xaxis": {
                        "backgroundcolor": "#E5ECF6",
                        "gridcolor": "white",
                        "gridwidth": 2,
                        "linecolor": "white",
                        "showbackground": true,
                        "ticks": "",
                        "zerolinecolor": "white"
                      },
                      "yaxis": {
                        "backgroundcolor": "#E5ECF6",
                        "gridcolor": "white",
                        "gridwidth": 2,
                        "linecolor": "white",
                        "showbackground": true,
                        "ticks": "",
                        "zerolinecolor": "white"
                      },
                      "zaxis": {
                        "backgroundcolor": "#E5ECF6",
                        "gridcolor": "white",
                        "gridwidth": 2,
                        "linecolor": "white",
                        "showbackground": true,
                        "ticks": "",
                        "zerolinecolor": "white"
                      }
                    },
                    "shapedefaults": {
                      "line": {
                        "color": "#2a3f5f"
                      }
                    },
                    "ternary": {
                      "aaxis": {
                        "gridcolor": "white",
                        "linecolor": "white",
                        "ticks": ""
                      },
                      "baxis": {
                        "gridcolor": "white",
                        "linecolor": "white",
                        "ticks": ""
                      },
                      "bgcolor": "#E5ECF6",
                      "caxis": {
                        "gridcolor": "white",
                        "linecolor": "white",
                        "ticks": ""
                      }
                    },
                    "title": {
                      "x": 0.05
                    },
                    "xaxis": {
                      "automargin": true,
                      "gridcolor": "white",
                      "linecolor": "white",
                      "ticks": "",
                      "title": {
                        "standoff": 15
                      },
                      "zerolinecolor": "white",
                      "zerolinewidth": 2
                    },
                    "yaxis": {
                      "automargin": true,
                      "gridcolor": "white",
                      "linecolor": "white",
                      "ticks": "",
                      "title": {
                        "standoff": 15
                      },
                      "zerolinecolor": "white",
                      "zerolinewidth": 2
                    }
                  }
                },
                "width": 700,
                "xaxis": {
                  "autorange": true,
                  "mirror": "allticks",
                  "range": [
                    0,
                    55
                  ],
                  "rangemode": "tozero",
                  "showgrid": false,
                  "showline": true,
                  "showticklabels": true,
                  "tickmode": "array",
                  "ticks": "outside",
                  "ticktext": [
                    "Dallas",
                    "Denver",
                    "Detroit",
                    "Atlanta",
                    "Boston",
                    "Chicago"
                  ],
                  "tickvals": [
                    5,
                    15,
                    25,
                    35,
                    45,
                    55
                  ],
                  "type": "linear",
                  "zeroline": false
                },
                "yaxis": {
                  "autorange": true,
                  "mirror": "allticks",
                  "range": [
                    0,
                    621.2371893482898
                  ],
                  "rangemode": "tozero",
                  "showgrid": false,
                  "showline": true,
                  "showticklabels": true,
                  "ticks": "outside",
                  "type": "linear",
                  "zeroline": false
                }
              }
            },
            "image/png": "[encoded data removed]",
            "text/html": [
              "<div>                            <div id=\"c8138ca9-08cd-4186-8743-315542943896\" class=\"plotly-graph-div\" style=\"height:infpx; width:infpx;\"></div>            <script type=\"text/javascript\">                require([\"plotly\"], function(Plotly) {                    window.PLOTLYENV=window.PLOTLYENV || {};                                    if (document.getElementById(\"c8138ca9-08cd-4186-8743-315542943896\")) {                    Plotly.newPlot(                        \"c8138ca9-08cd-4186-8743-315542943896\",                        [{\"hoverinfo\":\"text\",\"marker\":{\"color\":\"rgb(61,153,112)\"},\"mode\":\"lines\",\"x\":[15.0,15.0,25.0,25.0],\"xaxis\":\"x\",\"y\":[0.0,358.66537329382663,358.66537329382663,0.0],\"yaxis\":\"y\",\"type\":\"scatter\"},{\"hoverinfo\":\"text\",\"marker\":{\"color\":\"rgb(0,116,217)\"},\"mode\":\"lines\",\"x\":[5.0,5.0,20.0,20.0],\"xaxis\":\"x\",\"y\":[0.0,464.4677168544656,464.4677168544656,358.66537329382663],\"yaxis\":\"y\",\"type\":\"scatter\"},{\"hoverinfo\":\"text\",\"marker\":{\"color\":\"rgb(0,116,217)\"},\"mode\":\"lines\",\"x\":[45.0,45.0,55.0,55.0],\"xaxis\":\"x\",\"y\":[0.0,447.4033079895588,447.4033079895588,0.0],\"yaxis\":\"y\",\"type\":\"scatter\"},{\"hoverinfo\":\"text\",\"marker\":{\"color\":\"rgb(0,116,217)\"},\"mode\":\"lines\",\"x\":[35.0,35.0,50.0,50.0],\"xaxis\":\"x\",\"y\":[0.0,516.3700417336389,516.3700417336389,447.4033079895588],\"yaxis\":\"y\",\"type\":\"scatter\"},{\"hoverinfo\":\"text\",\"marker\":{\"color\":\"rgb(0,116,217)\"},\"mode\":\"lines\",\"x\":[12.5,12.5,42.5,42.5],\"xaxis\":\"x\",\"y\":[464.4677168544656,590.1753298808753,590.1753298808753,516.3700417336389],\"yaxis\":\"y\",\"type\":\"scatter\"}],                        {\"autosize\":false,\"height\":null,\"hovermode\":\"closest\",\"showlegend\":false,\"width\":null,\"xaxis\":{\"mirror\":\"allticks\",\"rangemode\":\"tozero\",\"showgrid\":false,\"showline\":true,\"showticklabels\":true,\"tickmode\":\"array\",\"ticks\":\"outside\",\"ticktext\":[\"Dallas\",\"Denver\",\"Detroit\",\"Atlanta\",\"Boston\",\"Chicago\"],\"tickvals\":[5.0,15.0,25.0,35.0,45.0,55.0],\"type\":\"linear\",\"zeroline\":false},\"yaxis\":{\"mirror\":\"allticks\",\"rangemode\":\"tozero\",\"showgrid\":false,\"showline\":true,\"showticklabels\":true,\"ticks\":\"outside\",\"type\":\"linear\",\"zeroline\":false},\"template\":{\"data\":{\"histogram2dcontour\":[{\"type\":\"histogram2dcontour\",\"colorbar\":{\"outlinewidth\":0,\"ticks\":\"\"},\"colorscale\":[[0.0,\"#0d0887\"],[0.1111111111111111,\"#46039f\"],[0.2222222222222222,\"#7201a8\"],[0.3333333333333333,\"#9c179e\"],[0.4444444444444444,\"#bd3786\"],[0.5555555555555556,\"#d8576b\"],[0.6666666666666666,\"#ed7953\"],[0.7777777777777778,\"#fb9f3a\"],[0.8888888888888888,\"#fdca26\"],[1.0,\"#f0f921\"]]}],\"choropleth\":[{\"type\":\"choropleth\",\"colorbar\":{\"outlinewidth\":0,\"ticks\":\"\"}}],\"histogram2d\":[{\"type\":\"histogram2d\",\"colorbar\":{\"outlinewidth\":0,\"ticks\":\"\"},\"colorscale\":[[0.0,\"#0d0887\"],[0.1111111111111111,\"#46039f\"],[0.2222222222222222,\"#7201a8\"],[0.3333333333333333,\"#9c179e\"],[0.4444444444444444,\"#bd3786\"],[0.5555555555555556,\"#d8576b\"],[0.6666666666666666,\"#ed7953\"],[0.7777777777777778,\"#fb9f3a\"],[0.8888888888888888,\"#fdca26\"],[1.0,\"#f0f921\"]]}],\"heatmap\":[{\"type\":\"heatmap\",\"colorbar\":{\"outlinewidth\":0,\"ticks\":\"\"},\"colorscale\":[[0.0,\"#0d0887\"],[0.1111111111111111,\"#46039f\"],[0.2222222222222222,\"#7201a8\"],[0.3333333333333333,\"#9c179e\"],[0.4444444444444444,\"#bd3786\"],[0.5555555555555556,\"#d8576b\"],[0.6666666666666666,\"#ed7953\"],[0.7777777777777778,\"#fb9f3a\"],[0.8888888888888888,\"#fdca26\"],[1.0,\"#f0f921\"]]}],\"heatmapgl\":[{\"type\":\"heatmapgl\",\"colorbar\":{\"outlinewidth\":0,\"ticks\":\"\"},\"colorscale\":[[0.0,\"#0d0887\"],[0.1111111111111111,\"#46039f\"],[0.2222222222222222,\"#7201a8\"],[0.3333333333333333,\"#9c179e\"],[0.4444444444444444,\"#bd3786\"],[0.5555555555555556,\"#d8576b\"],[0.6666666666666666,\"#ed7953\"],[0.7777777777777778,\"#fb9f3a\"],[0.8888888888888888,\"#fdca26\"],[1.0,\"#f0f921\"]]}],\"contourcarpet\":[{\"type\":\"contourcarpet\",\"colorbar\":{\"outlinewidth\":0,\"ticks\":\"\"}}],\"contour\":[{\"type\":\"contour\",\"colorbar\":{\"outlinewidth\":0,\"ticks\":\"\"},\"colorscale\":[[0.0,\"#0d0887\"],[0.1111111111111111,\"#46039f\"],[0.2222222222222222,\"#7201a8\"],[0.3333333333333333,\"#9c179e\"],[0.4444444444444444,\"#bd3786\"],[0.5555555555555556,\"#d8576b\"],[0.6666666666666666,\"#ed7953\"],[0.7777777777777778,\"#fb9f3a\"],[0.8888888888888888,\"#fdca26\"],[1.0,\"#f0f921\"]]}],\"surface\":[{\"type\":\"surface\",\"colorbar\":{\"outlinewidth\":0,\"ticks\":\"\"},\"colorscale\":[[0.0,\"#0d0887\"],[0.1111111111111111,\"#46039f\"],[0.2222222222222222,\"#7201a8\"],[0.3333333333333333,\"#9c179e\"],[0.4444444444444444,\"#bd3786\"],[0.5555555555555556,\"#d8576b\"],[0.6666666666666666,\"#ed7953\"],[0.7777777777777778,\"#fb9f3a\"],[0.8888888888888888,\"#fdca26\"],[1.0,\"#f0f921\"]]}],\"mesh3d\":[{\"type\":\"mesh3d\",\"colorbar\":{\"outlinewidth\":0,\"ticks\":\"\"}}],\"scatter\":[{\"fillpattern\":{\"fillmode\":\"overlay\",\"size\":10,\"solidity\":0.2},\"type\":\"scatter\"}],\"parcoords\":[{\"type\":\"parcoords\",\"line\":{\"colorbar\":{\"outlinewidth\":0,\"ticks\":\"\"}}}],\"scatterpolargl\":[{\"type\":\"scatterpolargl\",\"marker\":{\"colorbar\":{\"outlinewidth\":0,\"ticks\":\"\"}}}],\"bar\":[{\"error_x\":{\"color\":\"#2a3f5f\"},\"error_y\":{\"color\":\"#2a3f5f\"},\"marker\":{\"line\":{\"color\":\"#E5ECF6\",\"width\":0.5},\"pattern\":{\"fillmode\":\"overlay\",\"size\":10,\"solidity\":0.2}},\"type\":\"bar\"}],\"scattergeo\":[{\"type\":\"scattergeo\",\"marker\":{\"colorbar\":{\"outlinewidth\":0,\"ticks\":\"\"}}}],\"scatterpolar\":[{\"type\":\"scatterpolar\",\"marker\":{\"colorbar\":{\"outlinewidth\":0,\"ticks\":\"\"}}}],\"histogram\":[{\"marker\":{\"pattern\":{\"fillmode\":\"overlay\",\"size\":10,\"solidity\":0.2}},\"type\":\"histogram\"}],\"scattergl\":[{\"type\":\"scattergl\",\"marker\":{\"colorbar\":{\"outlinewidth\":0,\"ticks\":\"\"}}}],\"scatter3d\":[{\"type\":\"scatter3d\",\"line\":{\"colorbar\":{\"outlinewidth\":0,\"ticks\":\"\"}},\"marker\":{\"colorbar\":{\"outlinewidth\":0,\"ticks\":\"\"}}}],\"scattermapbox\":[{\"type\":\"scattermapbox\",\"marker\":{\"colorbar\":{\"outlinewidth\":0,\"ticks\":\"\"}}}],\"scatterternary\":[{\"type\":\"scatterternary\",\"marker\":{\"colorbar\":{\"outlinewidth\":0,\"ticks\":\"\"}}}],\"scattercarpet\":[{\"type\":\"scattercarpet\",\"marker\":{\"colorbar\":{\"outlinewidth\":0,\"ticks\":\"\"}}}],\"carpet\":[{\"aaxis\":{\"endlinecolor\":\"#2a3f5f\",\"gridcolor\":\"white\",\"linecolor\":\"white\",\"minorgridcolor\":\"white\",\"startlinecolor\":\"#2a3f5f\"},\"baxis\":{\"endlinecolor\":\"#2a3f5f\",\"gridcolor\":\"white\",\"linecolor\":\"white\",\"minorgridcolor\":\"white\",\"startlinecolor\":\"#2a3f5f\"},\"type\":\"carpet\"}],\"table\":[{\"cells\":{\"fill\":{\"color\":\"#EBF0F8\"},\"line\":{\"color\":\"white\"}},\"header\":{\"fill\":{\"color\":\"#C8D4E3\"},\"line\":{\"color\":\"white\"}},\"type\":\"table\"}],\"barpolar\":[{\"marker\":{\"line\":{\"color\":\"#E5ECF6\",\"width\":0.5},\"pattern\":{\"fillmode\":\"overlay\",\"size\":10,\"solidity\":0.2}},\"type\":\"barpolar\"}],\"pie\":[{\"automargin\":true,\"type\":\"pie\"}]},\"layout\":{\"autotypenumbers\":\"strict\",\"colorway\":[\"#636efa\",\"#EF553B\",\"#00cc96\",\"#ab63fa\",\"#FFA15A\",\"#19d3f3\",\"#FF6692\",\"#B6E880\",\"#FF97FF\",\"#FECB52\"],\"font\":{\"color\":\"#2a3f5f\"},\"hovermode\":\"closest\",\"hoverlabel\":{\"align\":\"left\"},\"paper_bgcolor\":\"white\",\"plot_bgcolor\":\"#E5ECF6\",\"polar\":{\"bgcolor\":\"#E5ECF6\",\"angularaxis\":{\"gridcolor\":\"white\",\"linecolor\":\"white\",\"ticks\":\"\"},\"radialaxis\":{\"gridcolor\":\"white\",\"linecolor\":\"white\",\"ticks\":\"\"}},\"ternary\":{\"bgcolor\":\"#E5ECF6\",\"aaxis\":{\"gridcolor\":\"white\",\"linecolor\":\"white\",\"ticks\":\"\"},\"baxis\":{\"gridcolor\":\"white\",\"linecolor\":\"white\",\"ticks\":\"\"},\"caxis\":{\"gridcolor\":\"white\",\"linecolor\":\"white\",\"ticks\":\"\"}},\"coloraxis\":{\"colorbar\":{\"outlinewidth\":0,\"ticks\":\"\"}},\"colorscale\":{\"sequential\":[[0.0,\"#0d0887\"],[0.1111111111111111,\"#46039f\"],[0.2222222222222222,\"#7201a8\"],[0.3333333333333333,\"#9c179e\"],[0.4444444444444444,\"#bd3786\"],[0.5555555555555556,\"#d8576b\"],[0.6666666666666666,\"#ed7953\"],[0.7777777777777778,\"#fb9f3a\"],[0.8888888888888888,\"#fdca26\"],[1.0,\"#f0f921\"]],\"sequentialminus\":[[0.0,\"#0d0887\"],[0.1111111111111111,\"#46039f\"],[0.2222222222222222,\"#7201a8\"],[0.3333333333333333,\"#9c179e\"],[0.4444444444444444,\"#bd3786\"],[0.5555555555555556,\"#d8576b\"],[0.6666666666666666,\"#ed7953\"],[0.7777777777777778,\"#fb9f3a\"],[0.8888888888888888,\"#fdca26\"],[1.0,\"#f0f921\"]],\"diverging\":[[0,\"#8e0152\"],[0.1,\"#c51b7d\"],[0.2,\"#de77ae\"],[0.3,\"#f1b6da\"],[0.4,\"#fde0ef\"],[0.5,\"#f7f7f7\"],[0.6,\"#e6f5d0\"],[0.7,\"#b8e186\"],[0.8,\"#7fbc41\"],[0.9,\"#4d9221\"],[1,\"#276419\"]]},\"xaxis\":{\"gridcolor\":\"white\",\"linecolor\":\"white\",\"ticks\":\"\",\"title\":{\"standoff\":15},\"zerolinecolor\":\"white\",\"automargin\":true,\"zerolinewidth\":2},\"yaxis\":{\"gridcolor\":\"white\",\"linecolor\":\"white\",\"ticks\":\"\",\"title\":{\"standoff\":15},\"zerolinecolor\":\"white\",\"automargin\":true,\"zerolinewidth\":2},\"scene\":{\"xaxis\":{\"backgroundcolor\":\"#E5ECF6\",\"gridcolor\":\"white\",\"linecolor\":\"white\",\"showbackground\":true,\"ticks\":\"\",\"zerolinecolor\":\"white\",\"gridwidth\":2},\"yaxis\":{\"backgroundcolor\":\"#E5ECF6\",\"gridcolor\":\"white\",\"linecolor\":\"white\",\"showbackground\":true,\"ticks\":\"\",\"zerolinecolor\":\"white\",\"gridwidth\":2},\"zaxis\":{\"backgroundcolor\":\"#E5ECF6\",\"gridcolor\":\"white\",\"linecolor\":\"white\",\"showbackground\":true,\"ticks\":\"\",\"zerolinecolor\":\"white\",\"gridwidth\":2}},\"shapedefaults\":{\"line\":{\"color\":\"#2a3f5f\"}},\"annotationdefaults\":{\"arrowcolor\":\"#2a3f5f\",\"arrowhead\":0,\"arrowwidth\":1},\"geo\":{\"bgcolor\":\"white\",\"landcolor\":\"#E5ECF6\",\"subunitcolor\":\"white\",\"showland\":true,\"showlakes\":true,\"lakecolor\":\"white\"},\"title\":{\"x\":0.05},\"mapbox\":{\"style\":\"light\"}}}},                        {\"responsive\": true}                    ).then(function(){\n",
              "                            \n",
              "var gd = document.getElementById('c8138ca9-08cd-4186-8743-315542943896');\n",
              "var x = new MutationObserver(function (mutations, observer) {{\n",
              "        var display = window.getComputedStyle(gd).display;\n",
              "        if (!display || display === 'none') {{\n",
              "            console.log([gd, 'removed!']);\n",
              "            Plotly.purge(gd);\n",
              "            observer.disconnect();\n",
              "        }}\n",
              "}});\n",
              "\n",
              "// Listen for the removal of the full notebook cells\n",
              "var notebookContainer = gd.closest('#notebook-container');\n",
              "if (notebookContainer) {{\n",
              "    x.observe(notebookContainer, {childList: true});\n",
              "}}\n",
              "\n",
              "// Listen for the clearing of the current output cell\n",
              "var outputEl = gd.closest('.output');\n",
              "if (outputEl) {{\n",
              "    x.observe(outputEl, {childList: true});\n",
              "}}\n",
              "\n",
              "                        })                };                });            </script>        </div>"
            ]
          },
          "metadata": {},
          "output_type": "display_data"
        }
      ],
      "source": [
        "ff.create_dendrogram(dta_crime,labels=dta_crime.index,linkagefun=lambda x: linkage(dta_crime, 'single', metric='euclidean'))\n",
        "\n",
        "#<xml xmlns=\"https://developers.google.com/blockly/xml\"><variables><variable id=\"Zj7)98L%$3=^m0RFTpsE\">ff</variable><variable id=\"%=I(Y@y7)V7$byL5_`VZ\">dta_crime</variable></variables><block type=\"varDoMethod_Python\" id=\"oPiAt8f{1]~Pb4{GzW3s\" x=\"37\" y=\"111\"><mutation items=\"3\"></mutation><field name=\"VAR\" id=\"Zj7)98L%$3=^m0RFTpsE\">ff</field><field name=\"MEMBER\">create_dendrogram</field><data>ff:create_dendrogram</data><value name=\"ADD0\"><block type=\"variables_get\" id=\"YQ7_-p5-u5W8*57;dz0L\"><field name=\"VAR\" id=\"%=I(Y@y7)V7$byL5_`VZ\">dta_crime</field></block></value><value name=\"ADD1\"><block type=\"dummyOutputCodeBlock_Python\" id=\"e-55{^^Nd+o:2CkC#g_U\"><field name=\"CODE\">labels=dta_crime.index</field></block></value><value name=\"ADD2\"><block type=\"dummyOutputCodeBlock_Python\" id=\"eWv5E1j;ofN~wc%Y~8]x\"><field name=\"CODE\">linkagefun=lambda x: linkage(dta_crime, 'single', metric='euclidean')</field></block></value></block></xml>"
      ]
    },
    {
      "cell_type": "markdown",
      "metadata": {
        "id": "eRixXsqObaKk"
      },
      "source": [
        "Congratulations, you have just entered the world of Machine Learning!\n",
        "\n",
        "This was your first unsupervised clustering method."
      ]
    },
    {
      "cell_type": "markdown",
      "metadata": {
        "id": "bcS3GqRgbaKk"
      },
      "source": [
        "## Nonhierarchical Methods"
      ]
    },
    {
      "cell_type": "markdown",
      "metadata": {
        "id": "b_S4EDwEbaKk"
      },
      "source": [
        "### Partitioning"
      ]
    },
    {
      "cell_type": "markdown",
      "metadata": {
        "id": "YMZLzL1UbaKk"
      },
      "source": [
        "_Partitioning_ methods are also called _optimization methods_.\n",
        "In this approach to clustering, observations are separated into $g$ clusters and optimal clustering is chosen according to some criteria.\n",
        "One partitioning method commonly used is _$k$-means_.\n",
        "\n",
        "In $k$-means clustering, some initial $g$ observations are chosen as seeds.\n",
        "Here $g$ is the number of clusters we want to use.\n",
        "The seeds are typically chosen at random so that they are a specified distance apart.\n",
        "The remaining observations are assigned to the cluster whose seed they are closest to.\n",
        "When all points (observation vectors) have been assigned, each point is re-examined to see if it is closer to the _centroid_ of any other cluster.\n",
        "The centroid is the average, over all the observations in the cluster, of each of the $p$ features.\n",
        "If points are closer to a centroid from a different cluster, they are moved to that cluster.\n",
        "Centroids are re-calculated and the process continues until there is no further improvement.\n",
        "If there is no convergence or slow convergence there may be no natural clustering in the data.\n",
        "$k$-means requires that the number of clusters be specified in advance but it allows observations to move between clusters if a better clustering is found.\n",
        "Like hierarchical clustering, $k$-means is not based on probability measures."
      ]
    },
    {
      "cell_type": "markdown",
      "metadata": {
        "id": "AznwUnWIbaKk"
      },
      "source": [
        "The `iris.csv` dataset contains 5 variables:\n",
        "\n",
        "| Variable    | Type    | Description           |\n",
        "|:-------------|:---------|:-----------------------|\n",
        "| SepalLength | Ratio   | the sepal length (cm) |\n",
        "| SepalWidth  | Ratio   | the sepal width (cm)  |\n",
        "| PetalLength | Ratio   | the petal length (cm) |\n",
        "| PetalWidth  | Ratio   | the petal width (cm)  |\n",
        "| Species     | Nominal | the flower species    |\n",
        "\n",
        "<div style=\"text-align:center;font-size: smaller\">\n",
        " <b>Source:</b> This dataset was taken from the <a href=\"https://archive.ics.uci.edu/ml/datasets/iris\">UCI Machine Learning Repository library\n",
        "    </a></div>\n",
        "<br>\n",
        "\n",
        "Let's load the data:\n",
        "\n",
        "- Set `dta_iris` to with `pd` do `read_csv` using\n",
        "    - `\"datasets/iris.csv\"`\n",
        "- `dta_iris` (to display)\n"
      ]
    },
    {
      "cell_type": "code",
      "execution_count": null,
      "metadata": {
        "id": "4X_IHLH1baKk",
        "outputId": "f66bfea5-b462-41aa-b22d-087a87cec3d3"
      },
      "outputs": [
        {
          "name": "stdout",
          "output_type": "stream",
          "text": [
            "     SepalLength  SepalWidth  PetalLength  PetalWidth    Species\n",
            "0            5.1         3.5          1.4         0.2     setosa\n",
            "1            4.9         3.0          1.4         0.2     setosa\n",
            "2            4.7         3.2          1.3         0.2     setosa\n",
            "3            4.6         3.1          1.5         0.2     setosa\n",
            "4            5.0         3.6          1.4         0.2     setosa\n",
            "..           ...         ...          ...         ...        ...\n",
            "145          6.7         3.0          5.2         2.3  virginica\n",
            "146          6.3         2.5          5.0         1.9  virginica\n",
            "147          6.5         3.0          5.2         2.0  virginica\n",
            "148          6.2         3.4          5.4         2.3  virginica\n",
            "149          5.9         3.0          5.1         1.8  virginica\n",
            "\n",
            "[150 rows x 5 columns]\n"
          ]
        }
      ],
      "source": [
        "dta_iris = pd.read_csv('datasets/iris.csv')\n",
        "print(dta_iris)\n",
        "\n",
        "#<xml xmlns=\"https://developers.google.com/blockly/xml\"><variables><variable id=\"K-$W3`yn;-;t/nG`(JNB\">dta_iris</variable><variable id=\"cln2y5W-Js_!Lv!XvfTs\">pd</variable></variables><block type=\"variables_set\" id=\"o!_/v?m!yqQ,)E9Cu-oC\" x=\"59\" y=\"48\"><field name=\"VAR\" id=\"K-$W3`yn;-;t/nG`(JNB\">dta_iris</field><value name=\"VALUE\"><block type=\"varDoMethod_Python\" id=\"8,(z!14KBrpq4=xO}:N@\"><mutation items=\"1\"></mutation><field name=\"VAR\" id=\"cln2y5W-Js_!Lv!XvfTs\">pd</field><field name=\"MEMBER\">read_csv</field><data>pd:read_csv</data><value name=\"ADD0\"><block type=\"text\" id=\"B[_;hLna,A,(AYu;V+W~\"><field name=\"TEXT\">datasets/iris.csv</field></block></value></block></value><next><block type=\"text_print\" id=\"XpNUcZldqQ%GsvwDf8M$\"><value name=\"TEXT\"><shadow type=\"text\" id=\"6T*=0SmUKG,:YGWzoRse\"><field name=\"TEXT\">abc</field></shadow><block type=\"variables_get\" id=\"U{tjaPu*^u`Kaub;]=M-\"><field name=\"VAR\" id=\"K-$W3`yn;-;t/nG`(JNB\">dta_iris</field></block></value></block></next></block></xml>"
      ]
    },
    {
      "cell_type": "markdown",
      "metadata": {
        "id": "8cpS3y5rbaKl"
      },
      "source": [
        "We are going to use `SepalLength`, `SepalWidth`, `PetalLength`, and `PetalWidth` to perform $k$-means.\n",
        "\n",
        "Create a new dataframe with just these columns:\n",
        "\n",
        "- Set `dta_iris` to `dta_iris [ ]` (In LISTS, get {dictVariable}[ ] and select dta_iris from the dropdown mentu)\n",
        "- Put the following in a list, and put that *inside* `dta_iris [ ]`:\n",
        "     - `\"SepalLength\"`\n",
        "     - `\"SepalWidth\"`\n",
        "     - `\"PetalLength\"`\n",
        "     - `\"PetalWidth\"`\n",
        "   \n",
        "**Note that when we set `dta_iris` to this new dataframe, we are overwriting what was in the original one, so to get the original back we'd need to read from the csv file again.**"
      ]
    },
    {
      "cell_type": "code",
      "execution_count": null,
      "metadata": {
        "id": "3Yv90B_abaKl",
        "outputId": "a0f5245b-7dd6-4286-dd9c-9f6066d6efd4"
      },
      "outputs": [
        {
          "name": "stdout",
          "output_type": "stream",
          "text": [
            "     SepalLength  SepalWidth  PetalLength  PetalWidth\n",
            "0            5.1         3.5          1.4         0.2\n",
            "1            4.9         3.0          1.4         0.2\n",
            "2            4.7         3.2          1.3         0.2\n",
            "3            4.6         3.1          1.5         0.2\n",
            "4            5.0         3.6          1.4         0.2\n",
            "..           ...         ...          ...         ...\n",
            "145          6.7         3.0          5.2         2.3\n",
            "146          6.3         2.5          5.0         1.9\n",
            "147          6.5         3.0          5.2         2.0\n",
            "148          6.2         3.4          5.4         2.3\n",
            "149          5.9         3.0          5.1         1.8\n",
            "\n",
            "[150 rows x 4 columns]\n"
          ]
        }
      ],
      "source": [
        "dta_iris = dta_iris[['SepalLength', 'SepalWidth', 'PetalLength', 'PetalWidth']]\n",
        "print(dta_iris)\n",
        "\n",
        "#<xml xmlns=\"https://developers.google.com/blockly/xml\"><variables><variable id=\"K-$W3`yn;-;t/nG`(JNB\">dta_iris</variable></variables><block type=\"variables_set\" id=\"=ig1nEv[UX52HrE_p{4|\" x=\"64\" y=\"251\"><field name=\"VAR\" id=\"K-$W3`yn;-;t/nG`(JNB\">dta_iris</field><value name=\"VALUE\"><block type=\"indexer_Python\" id=\"3-_aiph}+wLzs=|dqi/p\"><field name=\"VAR\" id=\"K-$W3`yn;-;t/nG`(JNB\">dta_iris</field><value name=\"INDEX\"><block type=\"lists_create_with\" id=\"}pHO6Rf_Z/8I!I)e)RkB\"><mutation items=\"4\"></mutation><value name=\"ADD0\"><block type=\"text\" id=\")i4ow9ouZ6-Nn_A~Pe(1\"><field name=\"TEXT\">SepalLength</field></block></value><value name=\"ADD1\"><block type=\"text\" id=\"I1+21AjR7GN3h{XT{;Yq\"><field name=\"TEXT\">SepalWidth</field></block></value><value name=\"ADD2\"><block type=\"text\" id=\"|0kMt6ECCY|EF`NvPCs?\"><field name=\"TEXT\">PetalLength</field></block></value><value name=\"ADD3\"><block type=\"text\" id=\"K[V{2Wezi{*#T[!F`GY+\"><field name=\"TEXT\">PetalWidth</field></block></value></block></value></block></value><next><block type=\"text_print\" id=\"LO.=K/_Ti0~^d{w*YeL2\"><value name=\"TEXT\"><shadow type=\"text\" id=\"-x`*e)Q[/+ucks1OoQh/\"><field name=\"TEXT\">abc</field></shadow><block type=\"variables_get\" id=\"*A$*IUg#@h`9){4Trp8D\"><field name=\"VAR\" id=\"K-$W3`yn;-;t/nG`(JNB\">dta_iris</field></block></value></block></next></block></xml>"
      ]
    },
    {
      "cell_type": "markdown",
      "metadata": {
        "id": "I9xKlZDbbaKl"
      },
      "source": [
        "To perform $k$-means, import `sklearn.cluster`:\n",
        "<!-- import `KMeans`. We will need this function.  -->\n",
        "- `import sklearn.cluster as cluster`"
      ]
    },
    {
      "cell_type": "code",
      "execution_count": null,
      "metadata": {
        "id": "OoHKGBsqbaKl"
      },
      "outputs": [],
      "source": [
        "import sklearn.cluster as cluster\n",
        "\n",
        "#<xml xmlns=\"https://developers.google.com/blockly/xml\"><variables><variable id=\"bGjm_gSzX9jiirezZl]t\">cluster</variable></variables><block type=\"importAs_Python\" id=\"PY{U`k+/x^M%^eF6EGOT\" x=\"47\" y=\"7\"><field name=\"libraryName\">sklearn.cluster</field><field name=\"libraryAlias\" id=\"bGjm_gSzX9jiirezZl]t\">cluster</field></block></xml>"
      ]
    },
    {
      "cell_type": "markdown",
      "metadata": {
        "id": "p2xviteFbaKl"
      },
      "source": [
        "We will arbitrarily assign the number of clusters, $k$, as 5.\n",
        "To implement $k$-means clustering:\n",
        "\n",
        "- Set `kmeansModel` to with `cluster` create `KMeans` using\n",
        "    - freestyle `n_clusters=5`"
      ]
    },
    {
      "cell_type": "code",
      "execution_count": null,
      "metadata": {
        "id": "zPkv1wNebaKl"
      },
      "outputs": [],
      "source": [
        "kmeansModel = cluster.KMeans(n_clusters=5)\n",
        "\n",
        "#<xml xmlns=\"https://developers.google.com/blockly/xml\"><variables><variable id=\"WMF]U5@RAG#cC}tV6dwg\">kmeansModel</variable><variable id=\"bGjm_gSzX9jiirezZl]t\">cluster</variable></variables><block type=\"variables_set\" id=\"d+Db*89YbRUtzKVlHrg_\" x=\"38\" y=\"38\"><field name=\"VAR\" id=\"WMF]U5@RAG#cC}tV6dwg\">kmeansModel</field><value name=\"VALUE\"><block type=\"varCreateObject_Python\" id=\"`}8{Hos-tu_U/qXd5)2i\"><mutation items=\"1\"></mutation><field name=\"VAR\" id=\"bGjm_gSzX9jiirezZl]t\">cluster</field><field name=\"MEMBER\">KMeans</field><data>cluster:KMeans</data><value name=\"ADD0\"><block type=\"dummyOutputCodeBlock_Python\" id=\"vnGv`ZV6W@.u[cSRo=6@\"><field name=\"CODE\">n_clusters=5</field></block></value></block></value></block></xml>"
      ]
    },
    {
      "cell_type": "markdown",
      "metadata": {
        "id": "oINVZKWDbaKl"
      },
      "source": [
        "`kmeansModel` is our clustering model, but we haven't shown it any data yet, so right now it is blank/empty.\n",
        "To get clusters, we need to *fit* the model with some data, then *predict* cluster membership for each datapoint (i.e. a row in our dataframe).\n",
        "We can do both of these steps at once using the `fit_predict` function, storing the cluster prediction results in `predictions`:\n",
        "\n",
        "- Set `predictions` to with `kmeansModel` do `fit_predict` using\n",
        "    `dta_iris`\n",
        "- `predictions` (to display)\n"
      ]
    },
    {
      "cell_type": "code",
      "execution_count": null,
      "metadata": {
        "id": "LiQQl_q0baKl",
        "outputId": "b62d760d-f924-43bd-93af-9127f7438f67"
      },
      "outputs": [
        {
          "name": "stdout",
          "output_type": "stream",
          "text": [
            "[0 0 0 0 0 0 0 0 0 0 0 0 0 0 0 0 0 0 0 0 0 0 0 0 0 0 0 0 0 0 0 0 0 0 0 0 0\n",
            " 0 0 0 0 0 0 0 0 0 0 0 0 0 3 2 3 4 2 2 3 4 2 4 4 2 4 2 4 2 2 2 2 4 3 2 3 2\n",
            " 2 2 3 3 2 4 4 4 4 3 2 2 3 2 2 4 2 2 4 4 2 2 2 2 4 2 1 3 1 3 1 1 4 1 1 1 3\n",
            " 3 1 3 3 3 3 1 1 3 1 3 1 3 1 1 3 3 3 1 1 1 3 3 3 1 3 3 3 1 1 3 3 1 1 3 3 3\n",
            " 3 3]\n"
          ]
        }
      ],
      "source": [
        "predicions = kmeansModel.fit_predict(dta_iris)\n",
        "print(predicions)\n",
        "\n",
        "#<xml xmlns=\"https://developers.google.com/blockly/xml\"><variables><variable id=\"Xf8%Kp/8#Dq7U)`K])#f\">predicions</variable><variable id=\"WMF]U5@RAG#cC}tV6dwg\">kmeansModel</variable><variable id=\"K-$W3`yn;-;t/nG`(JNB\">dta_iris</variable></variables><block type=\"variables_set\" id=\"BB2?-en4vY6;s@,==0+e\" x=\"17\" y=\"36\"><field name=\"VAR\" id=\"Xf8%Kp/8#Dq7U)`K])#f\">predicions</field><value name=\"VALUE\"><block type=\"varDoMethod_Python\" id=\"!Lh_CEc#qpd{r4zZ.52D\"><mutation items=\"1\"></mutation><field name=\"VAR\" id=\"WMF]U5@RAG#cC}tV6dwg\">kmeansModel</field><field name=\"MEMBER\">fit_predict</field><data>kmeansModel:fit_predict</data><value name=\"ADD0\"><block type=\"variables_get\" id=\"te4E3p/5B?t#k,u}1~3a\"><field name=\"VAR\" id=\"K-$W3`yn;-;t/nG`(JNB\">dta_iris</field></block></value></block></value><next><block type=\"text_print\" id=\"Pj-QXDQOu,:HIW8=D,sv\"><value name=\"TEXT\"><shadow type=\"text\" id=\"+Elh55RB)G+H$b)F;xa.\"><field name=\"TEXT\">abc</field></shadow><block type=\"variables_get\" id=\"M`?R(}h!xVFXF$fgG4F?\"><field name=\"VAR\" id=\"Xf8%Kp/8#Dq7U)`K])#f\">predicions</field></block></value></block></next></block></xml>"
      ]
    },
    {
      "cell_type": "markdown",
      "metadata": {
        "id": "VRNt4g1ubaKl"
      },
      "source": [
        "These are the cluster assignments to each flower, corresponding to each row of the dataset.\n",
        "\n",
        "Let's take these cluster assignments and add them as a new column of `dta_iris`, calling that column `cluster`.\n",
        "The following will *insert* this column at position 0 (the first position):\n",
        "\n",
        "- with `dta_iris` do `insert` using\n",
        "    - `0`\n",
        "    - `\"cluster\"`\n",
        "    - `with predictions do astype using` a freestyle containing `str`\n",
        "- `dta_iris` (to display)\n",
        "\n",
        "**We use `astype` to convert the predictions from `dtype=int32` to `str` (string) in order to group clusters by color in the plot later on.**\n",
        "\n",
        "<!-- Note: the original presentation converted to pandas categorical type, which orders the plot legend, but introduces more concepts that seems appropriate at this stage -->"
      ]
    },
    {
      "cell_type": "code",
      "execution_count": null,
      "metadata": {
        "id": "Yc8Tf_AmbaKl",
        "outputId": "878a45e6-7199-40ad-85d7-c1d3c0ef0338"
      },
      "outputs": [
        {
          "data": {
            "text/html": [
              "<div>\n",
              "<style scoped>\n",
              "    .dataframe tbody tr th:only-of-type {\n",
              "        vertical-align: middle;\n",
              "    }\n",
              "\n",
              "    .dataframe tbody tr th {\n",
              "        vertical-align: top;\n",
              "    }\n",
              "\n",
              "    .dataframe thead th {\n",
              "        text-align: right;\n",
              "    }\n",
              "</style>\n",
              "<table border=\"1\" class=\"dataframe\">\n",
              "  <thead>\n",
              "    <tr style=\"text-align: right;\">\n",
              "      <th></th>\n",
              "      <th>cluster</th>\n",
              "      <th>SepalLength</th>\n",
              "      <th>SepalWidth</th>\n",
              "      <th>PetalLength</th>\n",
              "      <th>PetalWidth</th>\n",
              "    </tr>\n",
              "  </thead>\n",
              "  <tbody>\n",
              "    <tr>\n",
              "      <th>0</th>\n",
              "      <td>0</td>\n",
              "      <td>5.1</td>\n",
              "      <td>3.5</td>\n",
              "      <td>1.4</td>\n",
              "      <td>0.2</td>\n",
              "    </tr>\n",
              "    <tr>\n",
              "      <th>1</th>\n",
              "      <td>0</td>\n",
              "      <td>4.9</td>\n",
              "      <td>3.0</td>\n",
              "      <td>1.4</td>\n",
              "      <td>0.2</td>\n",
              "    </tr>\n",
              "    <tr>\n",
              "      <th>2</th>\n",
              "      <td>0</td>\n",
              "      <td>4.7</td>\n",
              "      <td>3.2</td>\n",
              "      <td>1.3</td>\n",
              "      <td>0.2</td>\n",
              "    </tr>\n",
              "    <tr>\n",
              "      <th>3</th>\n",
              "      <td>0</td>\n",
              "      <td>4.6</td>\n",
              "      <td>3.1</td>\n",
              "      <td>1.5</td>\n",
              "      <td>0.2</td>\n",
              "    </tr>\n",
              "    <tr>\n",
              "      <th>4</th>\n",
              "      <td>0</td>\n",
              "      <td>5.0</td>\n",
              "      <td>3.6</td>\n",
              "      <td>1.4</td>\n",
              "      <td>0.2</td>\n",
              "    </tr>\n",
              "    <tr>\n",
              "      <th>...</th>\n",
              "      <td>...</td>\n",
              "      <td>...</td>\n",
              "      <td>...</td>\n",
              "      <td>...</td>\n",
              "      <td>...</td>\n",
              "    </tr>\n",
              "    <tr>\n",
              "      <th>145</th>\n",
              "      <td>3</td>\n",
              "      <td>6.7</td>\n",
              "      <td>3.0</td>\n",
              "      <td>5.2</td>\n",
              "      <td>2.3</td>\n",
              "    </tr>\n",
              "    <tr>\n",
              "      <th>146</th>\n",
              "      <td>3</td>\n",
              "      <td>6.3</td>\n",
              "      <td>2.5</td>\n",
              "      <td>5.0</td>\n",
              "      <td>1.9</td>\n",
              "    </tr>\n",
              "    <tr>\n",
              "      <th>147</th>\n",
              "      <td>3</td>\n",
              "      <td>6.5</td>\n",
              "      <td>3.0</td>\n",
              "      <td>5.2</td>\n",
              "      <td>2.0</td>\n",
              "    </tr>\n",
              "    <tr>\n",
              "      <th>148</th>\n",
              "      <td>3</td>\n",
              "      <td>6.2</td>\n",
              "      <td>3.4</td>\n",
              "      <td>5.4</td>\n",
              "      <td>2.3</td>\n",
              "    </tr>\n",
              "    <tr>\n",
              "      <th>149</th>\n",
              "      <td>3</td>\n",
              "      <td>5.9</td>\n",
              "      <td>3.0</td>\n",
              "      <td>5.1</td>\n",
              "      <td>1.8</td>\n",
              "    </tr>\n",
              "  </tbody>\n",
              "</table>\n",
              "<p>150 rows × 5 columns</p>\n",
              "</div>"
            ],
            "text/plain": [
              "     cluster  SepalLength  SepalWidth  PetalLength  PetalWidth\n",
              "0          0          5.1         3.5          1.4         0.2\n",
              "1          0          4.9         3.0          1.4         0.2\n",
              "2          0          4.7         3.2          1.3         0.2\n",
              "3          0          4.6         3.1          1.5         0.2\n",
              "4          0          5.0         3.6          1.4         0.2\n",
              "..       ...          ...         ...          ...         ...\n",
              "145        3          6.7         3.0          5.2         2.3\n",
              "146        3          6.3         2.5          5.0         1.9\n",
              "147        3          6.5         3.0          5.2         2.0\n",
              "148        3          6.2         3.4          5.4         2.3\n",
              "149        3          5.9         3.0          5.1         1.8\n",
              "\n",
              "[150 rows x 5 columns]"
            ]
          },
          "execution_count": 73,
          "metadata": {},
          "output_type": "execute_result"
        }
      ],
      "source": [
        "dta_iris.insert(0,'cluster',predicions)\n",
        "\n",
        "dta_iris\n",
        "\n",
        "#<xml xmlns=\"https://developers.google.com/blockly/xml\"><variables><variable id=\"K-$W3`yn;-;t/nG`(JNB\">dta_iris</variable><variable id=\"Xf8%Kp/8#Dq7U)`K])#f\">predicions</variable></variables><block type=\"varDoMethod_Python\" id=\"!+WzsLhaHy/OS6:z34rV\" x=\"70\" y=\"153\"><mutation items=\"3\"></mutation><field name=\"VAR\" id=\"K-$W3`yn;-;t/nG`(JNB\">dta_iris</field><field name=\"MEMBER\">insert</field><data>dta_iris:insert</data><value name=\"ADD0\"><block type=\"math_number\" id=\"$,anX8;HYTMub09pi7Vk\"><field name=\"NUM\">0</field></block></value><value name=\"ADD1\"><block type=\"text\" id=\"E$YGXWi7SbBMTeSOYglI\"><field name=\"TEXT\">cluster</field></block></value><value name=\"ADD2\"><block type=\"variables_get\" id=\"E.tvtfRtW{=EV_kTDwHW\"><field name=\"VAR\" id=\"Xf8%Kp/8#Dq7U)`K])#f\">predicions</field></block></value></block><block type=\"variables_get\" id=\"iYt356i{5]c$HbPQTS1,\" x=\"154\" y=\"398\"><field name=\"VAR\" id=\"K-$W3`yn;-;t/nG`(JNB\">dta_iris</field></block></xml>"
      ]
    },
    {
      "cell_type": "markdown",
      "metadata": {
        "id": "pL7uHUinbaKl"
      },
      "source": [
        "We can now make plots using this new `cluster` variable.\n",
        "Through this, we can show the power of clustering - to find important relationships in our data.\n",
        "\n",
        "We are going to make a scatterplot of `SepalWidth` by `SepalLength`, but we'll color the points using their cluster memberships and also draw a trendline for each cluster.\n",
        "\n",
        "First, import `plotly.express` to make the plot:\n",
        "\n",
        "- `import plotly.express as px`"
      ]
    },
    {
      "cell_type": "code",
      "execution_count": null,
      "metadata": {
        "id": "IQ5uKHzFbaKl"
      },
      "outputs": [],
      "source": [
        "import plotly.express as px\n",
        "\n",
        "#<xml xmlns=\"https://developers.google.com/blockly/xml\"><variables><variable id=\"3XR/LXd[R:?-joQq2iX*\">px</variable></variables><block type=\"importAs_Python\" id=\"xqw`Iu+_cRa?s{o5fCmT\" x=\"45\" y=\"8\"><field name=\"libraryName\">plotly.express</field><field name=\"libraryAlias\" id=\"3XR/LXd[R:?-joQq2iX*\">px</field></block></xml>"
      ]
    },
    {
      "cell_type": "markdown",
      "metadata": {
        "id": "1_j-sCRTbaKm"
      },
      "source": [
        "Create the scatterplot *with ordinary least squares (ols) trendlines* to better show the relationship for each cluster:\n",
        "\n",
        "- with `px` do `scatter` using\n",
        "    - `dta_iris`\n",
        "    - `x=\"SepalWidth\"`\n",
        "    - `y=\"SepalLength\"`\n",
        "    - `color=\"cluster\"`\n",
        "    - `trendline=\"ols\"`\n",
        "<!--     - `title_text=\"Relationship between Sepal Length and Sepal Width\"` -->\n",
        "    \n",
        "**Note everything in the list is a freestyle block except the first item, which is a dataframe variable**"
      ]
    },
    {
      "cell_type": "code",
      "execution_count": null,
      "metadata": {
        "id": "7XiUZfgbbaKm",
        "outputId": "0603d837-931e-46de-d0ee-161ef11124ff"
      },
      "outputs": [
        {
          "data": {
            "application/vnd.plotly.v1+json": {
              "config": {
                "plotlyServerURL": "https://plot.ly"
              },
              "data": [
                {
                  "hovertemplate": "SepalWidth=%{x}<br>SepalLength=%{y}<br>cluster=%{marker.color}<extra></extra>",
                  "legendgroup": "",
                  "marker": {
                    "color": [
                      0,
                      0,
                      0,
                      0,
                      0,
                      0,
                      0,
                      0,
                      0,
                      0,
                      0,
                      0,
                      0,
                      0,
                      0,
                      0,
                      0,
                      0,
                      0,
                      0,
                      0,
                      0,
                      0,
                      0,
                      0,
                      0,
                      0,
                      0,
                      0,
                      0,
                      0,
                      0,
                      0,
                      0,
                      0,
                      0,
                      0,
                      0,
                      0,
                      0,
                      0,
                      0,
                      0,
                      0,
                      0,
                      0,
                      0,
                      0,
                      0,
                      0,
                      3,
                      2,
                      3,
                      4,
                      2,
                      2,
                      3,
                      4,
                      2,
                      4,
                      4,
                      2,
                      4,
                      2,
                      4,
                      2,
                      2,
                      2,
                      2,
                      4,
                      3,
                      2,
                      3,
                      2,
                      2,
                      2,
                      3,
                      3,
                      2,
                      4,
                      4,
                      4,
                      4,
                      3,
                      2,
                      2,
                      3,
                      2,
                      2,
                      4,
                      2,
                      2,
                      4,
                      4,
                      2,
                      2,
                      2,
                      2,
                      4,
                      2,
                      1,
                      3,
                      1,
                      3,
                      1,
                      1,
                      4,
                      1,
                      1,
                      1,
                      3,
                      3,
                      1,
                      3,
                      3,
                      3,
                      3,
                      1,
                      1,
                      3,
                      1,
                      3,
                      1,
                      3,
                      1,
                      1,
                      3,
                      3,
                      3,
                      1,
                      1,
                      1,
                      3,
                      3,
                      3,
                      1,
                      3,
                      3,
                      3,
                      1,
                      1,
                      3,
                      3,
                      1,
                      1,
                      3,
                      3,
                      3,
                      3,
                      3
                    ],
                    "coloraxis": "coloraxis",
                    "symbol": "circle"
                  },
                  "mode": "markers",
                  "name": "",
                  "orientation": "v",
                  "showlegend": false,
                  "type": "scatter",
                  "x": [
                    3.5,
                    3,
                    3.2,
                    3.1,
                    3.6,
                    3.9,
                    3.4,
                    3.4,
                    2.9,
                    3.1,
                    3.7,
                    3.4,
                    3,
                    3,
                    4,
                    4.4,
                    3.9,
                    3.5,
                    3.8,
                    3.8,
                    3.4,
                    3.7,
                    3.6,
                    3.3,
                    3.4,
                    3,
                    3.4,
                    3.5,
                    3.4,
                    3.2,
                    3.1,
                    3.4,
                    4.1,
                    4.2,
                    3.1,
                    3.2,
                    3.5,
                    3.1,
                    3,
                    3.4,
                    3.5,
                    2.3,
                    3.2,
                    3.5,
                    3.8,
                    3,
                    3.8,
                    3.2,
                    3.7,
                    3.3,
                    3.2,
                    3.2,
                    3.1,
                    2.3,
                    2.8,
                    2.8,
                    3.3,
                    2.4,
                    2.9,
                    2.7,
                    2,
                    3,
                    2.2,
                    2.9,
                    2.9,
                    3.1,
                    3,
                    2.7,
                    2.2,
                    2.5,
                    3.2,
                    2.8,
                    2.5,
                    2.8,
                    2.9,
                    3,
                    2.8,
                    3,
                    2.9,
                    2.6,
                    2.4,
                    2.4,
                    2.7,
                    2.7,
                    3,
                    3.4,
                    3.1,
                    2.3,
                    3,
                    2.5,
                    2.6,
                    3,
                    2.6,
                    2.3,
                    2.7,
                    3,
                    2.9,
                    2.9,
                    2.5,
                    2.8,
                    3.3,
                    2.7,
                    3,
                    2.9,
                    3,
                    3,
                    2.5,
                    2.9,
                    2.5,
                    3.6,
                    3.2,
                    2.7,
                    3,
                    2.5,
                    2.8,
                    3.2,
                    3,
                    3.8,
                    2.6,
                    2.2,
                    3.2,
                    2.8,
                    2.8,
                    2.7,
                    3.3,
                    3.2,
                    2.8,
                    3,
                    2.8,
                    3,
                    2.8,
                    3.8,
                    2.8,
                    2.8,
                    2.6,
                    3,
                    3.4,
                    3.1,
                    3,
                    3.1,
                    3.1,
                    3.1,
                    2.7,
                    3.2,
                    3.3,
                    3,
                    2.5,
                    3,
                    3.4,
                    3
                  ],
                  "xaxis": "x",
                  "y": [
                    5.1,
                    4.9,
                    4.7,
                    4.6,
                    5,
                    5.4,
                    4.6,
                    5,
                    4.4,
                    4.9,
                    5.4,
                    4.8,
                    4.8,
                    4.3,
                    5.8,
                    5.7,
                    5.4,
                    5.1,
                    5.7,
                    5.1,
                    5.4,
                    5.1,
                    4.6,
                    5.1,
                    4.8,
                    5,
                    5,
                    5.2,
                    5.2,
                    4.7,
                    4.8,
                    5.4,
                    5.2,
                    5.5,
                    4.9,
                    5,
                    5.5,
                    4.9,
                    4.4,
                    5.1,
                    5,
                    4.5,
                    4.4,
                    5,
                    5.1,
                    4.8,
                    5.1,
                    4.6,
                    5.3,
                    5,
                    7,
                    6.4,
                    6.9,
                    5.5,
                    6.5,
                    5.7,
                    6.3,
                    4.9,
                    6.6,
                    5.2,
                    5,
                    5.9,
                    6,
                    6.1,
                    5.6,
                    6.7,
                    5.6,
                    5.8,
                    6.2,
                    5.6,
                    5.9,
                    6.1,
                    6.3,
                    6.1,
                    6.4,
                    6.6,
                    6.8,
                    6.7,
                    6,
                    5.7,
                    5.5,
                    5.5,
                    5.8,
                    6,
                    5.4,
                    6,
                    6.7,
                    6.3,
                    5.6,
                    5.5,
                    5.5,
                    6.1,
                    5.8,
                    5,
                    5.6,
                    5.7,
                    5.7,
                    6.2,
                    5.1,
                    5.7,
                    6.3,
                    5.8,
                    7.1,
                    6.3,
                    6.5,
                    7.6,
                    4.9,
                    7.3,
                    6.7,
                    7.2,
                    6.5,
                    6.4,
                    6.8,
                    5.7,
                    5.8,
                    6.4,
                    6.5,
                    7.7,
                    7.7,
                    6,
                    6.9,
                    5.6,
                    7.7,
                    6.3,
                    6.7,
                    7.2,
                    6.2,
                    6.1,
                    6.4,
                    7.2,
                    7.4,
                    7.9,
                    6.4,
                    6.3,
                    6.1,
                    7.7,
                    6.3,
                    6.4,
                    6,
                    6.9,
                    6.7,
                    6.9,
                    5.8,
                    6.8,
                    6.7,
                    6.7,
                    6.3,
                    6.5,
                    6.2,
                    5.9
                  ],
                  "yaxis": "y"
                }
              ],
              "layout": {
                "autosize": true,
                "coloraxis": {
                  "colorbar": {
                    "title": {
                      "text": "cluster"
                    }
                  },
                  "colorscale": [
                    [
                      0,
                      "#0d0887"
                    ],
                    [
                      0.1111111111111111,
                      "#46039f"
                    ],
                    [
                      0.2222222222222222,
                      "#7201a8"
                    ],
                    [
                      0.3333333333333333,
                      "#9c179e"
                    ],
                    [
                      0.4444444444444444,
                      "#bd3786"
                    ],
                    [
                      0.5555555555555556,
                      "#d8576b"
                    ],
                    [
                      0.6666666666666666,
                      "#ed7953"
                    ],
                    [
                      0.7777777777777778,
                      "#fb9f3a"
                    ],
                    [
                      0.8888888888888888,
                      "#fdca26"
                    ],
                    [
                      1,
                      "#f0f921"
                    ]
                  ]
                },
                "legend": {
                  "tracegroupgap": 0
                },
                "margin": {
                  "t": 60
                },
                "template": {
                  "data": {
                    "bar": [
                      {
                        "error_x": {
                          "color": "#2a3f5f"
                        },
                        "error_y": {
                          "color": "#2a3f5f"
                        },
                        "marker": {
                          "line": {
                            "color": "#E5ECF6",
                            "width": 0.5
                          },
                          "pattern": {
                            "fillmode": "overlay",
                            "size": 10,
                            "solidity": 0.2
                          }
                        },
                        "type": "bar"
                      }
                    ],
                    "barpolar": [
                      {
                        "marker": {
                          "line": {
                            "color": "#E5ECF6",
                            "width": 0.5
                          },
                          "pattern": {
                            "fillmode": "overlay",
                            "size": 10,
                            "solidity": 0.2
                          }
                        },
                        "type": "barpolar"
                      }
                    ],
                    "carpet": [
                      {
                        "aaxis": {
                          "endlinecolor": "#2a3f5f",
                          "gridcolor": "white",
                          "linecolor": "white",
                          "minorgridcolor": "white",
                          "startlinecolor": "#2a3f5f"
                        },
                        "baxis": {
                          "endlinecolor": "#2a3f5f",
                          "gridcolor": "white",
                          "linecolor": "white",
                          "minorgridcolor": "white",
                          "startlinecolor": "#2a3f5f"
                        },
                        "type": "carpet"
                      }
                    ],
                    "choropleth": [
                      {
                        "colorbar": {
                          "outlinewidth": 0,
                          "ticks": ""
                        },
                        "type": "choropleth"
                      }
                    ],
                    "contour": [
                      {
                        "colorbar": {
                          "outlinewidth": 0,
                          "ticks": ""
                        },
                        "colorscale": [
                          [
                            0,
                            "#0d0887"
                          ],
                          [
                            0.1111111111111111,
                            "#46039f"
                          ],
                          [
                            0.2222222222222222,
                            "#7201a8"
                          ],
                          [
                            0.3333333333333333,
                            "#9c179e"
                          ],
                          [
                            0.4444444444444444,
                            "#bd3786"
                          ],
                          [
                            0.5555555555555556,
                            "#d8576b"
                          ],
                          [
                            0.6666666666666666,
                            "#ed7953"
                          ],
                          [
                            0.7777777777777778,
                            "#fb9f3a"
                          ],
                          [
                            0.8888888888888888,
                            "#fdca26"
                          ],
                          [
                            1,
                            "#f0f921"
                          ]
                        ],
                        "type": "contour"
                      }
                    ],
                    "contourcarpet": [
                      {
                        "colorbar": {
                          "outlinewidth": 0,
                          "ticks": ""
                        },
                        "type": "contourcarpet"
                      }
                    ],
                    "heatmap": [
                      {
                        "colorbar": {
                          "outlinewidth": 0,
                          "ticks": ""
                        },
                        "colorscale": [
                          [
                            0,
                            "#0d0887"
                          ],
                          [
                            0.1111111111111111,
                            "#46039f"
                          ],
                          [
                            0.2222222222222222,
                            "#7201a8"
                          ],
                          [
                            0.3333333333333333,
                            "#9c179e"
                          ],
                          [
                            0.4444444444444444,
                            "#bd3786"
                          ],
                          [
                            0.5555555555555556,
                            "#d8576b"
                          ],
                          [
                            0.6666666666666666,
                            "#ed7953"
                          ],
                          [
                            0.7777777777777778,
                            "#fb9f3a"
                          ],
                          [
                            0.8888888888888888,
                            "#fdca26"
                          ],
                          [
                            1,
                            "#f0f921"
                          ]
                        ],
                        "type": "heatmap"
                      }
                    ],
                    "heatmapgl": [
                      {
                        "colorbar": {
                          "outlinewidth": 0,
                          "ticks": ""
                        },
                        "colorscale": [
                          [
                            0,
                            "#0d0887"
                          ],
                          [
                            0.1111111111111111,
                            "#46039f"
                          ],
                          [
                            0.2222222222222222,
                            "#7201a8"
                          ],
                          [
                            0.3333333333333333,
                            "#9c179e"
                          ],
                          [
                            0.4444444444444444,
                            "#bd3786"
                          ],
                          [
                            0.5555555555555556,
                            "#d8576b"
                          ],
                          [
                            0.6666666666666666,
                            "#ed7953"
                          ],
                          [
                            0.7777777777777778,
                            "#fb9f3a"
                          ],
                          [
                            0.8888888888888888,
                            "#fdca26"
                          ],
                          [
                            1,
                            "#f0f921"
                          ]
                        ],
                        "type": "heatmapgl"
                      }
                    ],
                    "histogram": [
                      {
                        "marker": {
                          "pattern": {
                            "fillmode": "overlay",
                            "size": 10,
                            "solidity": 0.2
                          }
                        },
                        "type": "histogram"
                      }
                    ],
                    "histogram2d": [
                      {
                        "colorbar": {
                          "outlinewidth": 0,
                          "ticks": ""
                        },
                        "colorscale": [
                          [
                            0,
                            "#0d0887"
                          ],
                          [
                            0.1111111111111111,
                            "#46039f"
                          ],
                          [
                            0.2222222222222222,
                            "#7201a8"
                          ],
                          [
                            0.3333333333333333,
                            "#9c179e"
                          ],
                          [
                            0.4444444444444444,
                            "#bd3786"
                          ],
                          [
                            0.5555555555555556,
                            "#d8576b"
                          ],
                          [
                            0.6666666666666666,
                            "#ed7953"
                          ],
                          [
                            0.7777777777777778,
                            "#fb9f3a"
                          ],
                          [
                            0.8888888888888888,
                            "#fdca26"
                          ],
                          [
                            1,
                            "#f0f921"
                          ]
                        ],
                        "type": "histogram2d"
                      }
                    ],
                    "histogram2dcontour": [
                      {
                        "colorbar": {
                          "outlinewidth": 0,
                          "ticks": ""
                        },
                        "colorscale": [
                          [
                            0,
                            "#0d0887"
                          ],
                          [
                            0.1111111111111111,
                            "#46039f"
                          ],
                          [
                            0.2222222222222222,
                            "#7201a8"
                          ],
                          [
                            0.3333333333333333,
                            "#9c179e"
                          ],
                          [
                            0.4444444444444444,
                            "#bd3786"
                          ],
                          [
                            0.5555555555555556,
                            "#d8576b"
                          ],
                          [
                            0.6666666666666666,
                            "#ed7953"
                          ],
                          [
                            0.7777777777777778,
                            "#fb9f3a"
                          ],
                          [
                            0.8888888888888888,
                            "#fdca26"
                          ],
                          [
                            1,
                            "#f0f921"
                          ]
                        ],
                        "type": "histogram2dcontour"
                      }
                    ],
                    "mesh3d": [
                      {
                        "colorbar": {
                          "outlinewidth": 0,
                          "ticks": ""
                        },
                        "type": "mesh3d"
                      }
                    ],
                    "parcoords": [
                      {
                        "line": {
                          "colorbar": {
                            "outlinewidth": 0,
                            "ticks": ""
                          }
                        },
                        "type": "parcoords"
                      }
                    ],
                    "pie": [
                      {
                        "automargin": true,
                        "type": "pie"
                      }
                    ],
                    "scatter": [
                      {
                        "fillpattern": {
                          "fillmode": "overlay",
                          "size": 10,
                          "solidity": 0.2
                        },
                        "type": "scatter"
                      }
                    ],
                    "scatter3d": [
                      {
                        "line": {
                          "colorbar": {
                            "outlinewidth": 0,
                            "ticks": ""
                          }
                        },
                        "marker": {
                          "colorbar": {
                            "outlinewidth": 0,
                            "ticks": ""
                          }
                        },
                        "type": "scatter3d"
                      }
                    ],
                    "scattercarpet": [
                      {
                        "marker": {
                          "colorbar": {
                            "outlinewidth": 0,
                            "ticks": ""
                          }
                        },
                        "type": "scattercarpet"
                      }
                    ],
                    "scattergeo": [
                      {
                        "marker": {
                          "colorbar": {
                            "outlinewidth": 0,
                            "ticks": ""
                          }
                        },
                        "type": "scattergeo"
                      }
                    ],
                    "scattergl": [
                      {
                        "marker": {
                          "colorbar": {
                            "outlinewidth": 0,
                            "ticks": ""
                          }
                        },
                        "type": "scattergl"
                      }
                    ],
                    "scattermapbox": [
                      {
                        "marker": {
                          "colorbar": {
                            "outlinewidth": 0,
                            "ticks": ""
                          }
                        },
                        "type": "scattermapbox"
                      }
                    ],
                    "scatterpolar": [
                      {
                        "marker": {
                          "colorbar": {
                            "outlinewidth": 0,
                            "ticks": ""
                          }
                        },
                        "type": "scatterpolar"
                      }
                    ],
                    "scatterpolargl": [
                      {
                        "marker": {
                          "colorbar": {
                            "outlinewidth": 0,
                            "ticks": ""
                          }
                        },
                        "type": "scatterpolargl"
                      }
                    ],
                    "scatterternary": [
                      {
                        "marker": {
                          "colorbar": {
                            "outlinewidth": 0,
                            "ticks": ""
                          }
                        },
                        "type": "scatterternary"
                      }
                    ],
                    "surface": [
                      {
                        "colorbar": {
                          "outlinewidth": 0,
                          "ticks": ""
                        },
                        "colorscale": [
                          [
                            0,
                            "#0d0887"
                          ],
                          [
                            0.1111111111111111,
                            "#46039f"
                          ],
                          [
                            0.2222222222222222,
                            "#7201a8"
                          ],
                          [
                            0.3333333333333333,
                            "#9c179e"
                          ],
                          [
                            0.4444444444444444,
                            "#bd3786"
                          ],
                          [
                            0.5555555555555556,
                            "#d8576b"
                          ],
                          [
                            0.6666666666666666,
                            "#ed7953"
                          ],
                          [
                            0.7777777777777778,
                            "#fb9f3a"
                          ],
                          [
                            0.8888888888888888,
                            "#fdca26"
                          ],
                          [
                            1,
                            "#f0f921"
                          ]
                        ],
                        "type": "surface"
                      }
                    ],
                    "table": [
                      {
                        "cells": {
                          "fill": {
                            "color": "#EBF0F8"
                          },
                          "line": {
                            "color": "white"
                          }
                        },
                        "header": {
                          "fill": {
                            "color": "#C8D4E3"
                          },
                          "line": {
                            "color": "white"
                          }
                        },
                        "type": "table"
                      }
                    ]
                  },
                  "layout": {
                    "annotationdefaults": {
                      "arrowcolor": "#2a3f5f",
                      "arrowhead": 0,
                      "arrowwidth": 1
                    },
                    "autotypenumbers": "strict",
                    "coloraxis": {
                      "colorbar": {
                        "outlinewidth": 0,
                        "ticks": ""
                      }
                    },
                    "colorscale": {
                      "diverging": [
                        [
                          0,
                          "#8e0152"
                        ],
                        [
                          0.1,
                          "#c51b7d"
                        ],
                        [
                          0.2,
                          "#de77ae"
                        ],
                        [
                          0.3,
                          "#f1b6da"
                        ],
                        [
                          0.4,
                          "#fde0ef"
                        ],
                        [
                          0.5,
                          "#f7f7f7"
                        ],
                        [
                          0.6,
                          "#e6f5d0"
                        ],
                        [
                          0.7,
                          "#b8e186"
                        ],
                        [
                          0.8,
                          "#7fbc41"
                        ],
                        [
                          0.9,
                          "#4d9221"
                        ],
                        [
                          1,
                          "#276419"
                        ]
                      ],
                      "sequential": [
                        [
                          0,
                          "#0d0887"
                        ],
                        [
                          0.1111111111111111,
                          "#46039f"
                        ],
                        [
                          0.2222222222222222,
                          "#7201a8"
                        ],
                        [
                          0.3333333333333333,
                          "#9c179e"
                        ],
                        [
                          0.4444444444444444,
                          "#bd3786"
                        ],
                        [
                          0.5555555555555556,
                          "#d8576b"
                        ],
                        [
                          0.6666666666666666,
                          "#ed7953"
                        ],
                        [
                          0.7777777777777778,
                          "#fb9f3a"
                        ],
                        [
                          0.8888888888888888,
                          "#fdca26"
                        ],
                        [
                          1,
                          "#f0f921"
                        ]
                      ],
                      "sequentialminus": [
                        [
                          0,
                          "#0d0887"
                        ],
                        [
                          0.1111111111111111,
                          "#46039f"
                        ],
                        [
                          0.2222222222222222,
                          "#7201a8"
                        ],
                        [
                          0.3333333333333333,
                          "#9c179e"
                        ],
                        [
                          0.4444444444444444,
                          "#bd3786"
                        ],
                        [
                          0.5555555555555556,
                          "#d8576b"
                        ],
                        [
                          0.6666666666666666,
                          "#ed7953"
                        ],
                        [
                          0.7777777777777778,
                          "#fb9f3a"
                        ],
                        [
                          0.8888888888888888,
                          "#fdca26"
                        ],
                        [
                          1,
                          "#f0f921"
                        ]
                      ]
                    },
                    "colorway": [
                      "#636efa",
                      "#EF553B",
                      "#00cc96",
                      "#ab63fa",
                      "#FFA15A",
                      "#19d3f3",
                      "#FF6692",
                      "#B6E880",
                      "#FF97FF",
                      "#FECB52"
                    ],
                    "font": {
                      "color": "#2a3f5f"
                    },
                    "geo": {
                      "bgcolor": "white",
                      "lakecolor": "white",
                      "landcolor": "#E5ECF6",
                      "showlakes": true,
                      "showland": true,
                      "subunitcolor": "white"
                    },
                    "hoverlabel": {
                      "align": "left"
                    },
                    "hovermode": "closest",
                    "mapbox": {
                      "style": "light"
                    },
                    "paper_bgcolor": "white",
                    "plot_bgcolor": "#E5ECF6",
                    "polar": {
                      "angularaxis": {
                        "gridcolor": "white",
                        "linecolor": "white",
                        "ticks": ""
                      },
                      "bgcolor": "#E5ECF6",
                      "radialaxis": {
                        "gridcolor": "white",
                        "linecolor": "white",
                        "ticks": ""
                      }
                    },
                    "scene": {
                      "xaxis": {
                        "backgroundcolor": "#E5ECF6",
                        "gridcolor": "white",
                        "gridwidth": 2,
                        "linecolor": "white",
                        "showbackground": true,
                        "ticks": "",
                        "zerolinecolor": "white"
                      },
                      "yaxis": {
                        "backgroundcolor": "#E5ECF6",
                        "gridcolor": "white",
                        "gridwidth": 2,
                        "linecolor": "white",
                        "showbackground": true,
                        "ticks": "",
                        "zerolinecolor": "white"
                      },
                      "zaxis": {
                        "backgroundcolor": "#E5ECF6",
                        "gridcolor": "white",
                        "gridwidth": 2,
                        "linecolor": "white",
                        "showbackground": true,
                        "ticks": "",
                        "zerolinecolor": "white"
                      }
                    },
                    "shapedefaults": {
                      "line": {
                        "color": "#2a3f5f"
                      }
                    },
                    "ternary": {
                      "aaxis": {
                        "gridcolor": "white",
                        "linecolor": "white",
                        "ticks": ""
                      },
                      "baxis": {
                        "gridcolor": "white",
                        "linecolor": "white",
                        "ticks": ""
                      },
                      "bgcolor": "#E5ECF6",
                      "caxis": {
                        "gridcolor": "white",
                        "linecolor": "white",
                        "ticks": ""
                      }
                    },
                    "title": {
                      "x": 0.05
                    },
                    "xaxis": {
                      "automargin": true,
                      "gridcolor": "white",
                      "linecolor": "white",
                      "ticks": "",
                      "title": {
                        "standoff": 15
                      },
                      "zerolinecolor": "white",
                      "zerolinewidth": 2
                    },
                    "yaxis": {
                      "automargin": true,
                      "gridcolor": "white",
                      "linecolor": "white",
                      "ticks": "",
                      "title": {
                        "standoff": 15
                      },
                      "zerolinecolor": "white",
                      "zerolinewidth": 2
                    }
                  }
                },
                "xaxis": {
                  "anchor": "y",
                  "autorange": true,
                  "domain": [
                    0,
                    1
                  ],
                  "range": [
                    1.8557911908646003,
                    4.5442088091354
                  ],
                  "title": {
                    "text": "SepalWidth"
                  },
                  "type": "linear"
                },
                "yaxis": {
                  "anchor": "x",
                  "autorange": true,
                  "domain": [
                    0,
                    1
                  ],
                  "range": [
                    4.021259842519685,
                    8.178740157480316
                  ],
                  "title": {
                    "text": "SepalLength"
                  },
                  "type": "linear"
                }
              }
            },
            "image/png": "[encoded data removed]",
            "text/html": [
              "<div>                            <div id=\"e452caa4-6392-4d51-809a-b44fb88ec180\" class=\"plotly-graph-div\" style=\"height:525px; width:100%;\"></div>            <script type=\"text/javascript\">                require([\"plotly\"], function(Plotly) {                    window.PLOTLYENV=window.PLOTLYENV || {};                                    if (document.getElementById(\"e452caa4-6392-4d51-809a-b44fb88ec180\")) {                    Plotly.newPlot(                        \"e452caa4-6392-4d51-809a-b44fb88ec180\",                        [{\"hovertemplate\":\"SepalWidth=%{x}\\u003cbr\\u003eSepalLength=%{y}\\u003cbr\\u003ecluster=%{marker.color}\\u003cextra\\u003e\\u003c\\u002fextra\\u003e\",\"legendgroup\":\"\",\"marker\":{\"color\":[0,0,0,0,0,0,0,0,0,0,0,0,0,0,0,0,0,0,0,0,0,0,0,0,0,0,0,0,0,0,0,0,0,0,0,0,0,0,0,0,0,0,0,0,0,0,0,0,0,0,3,2,3,4,2,2,3,4,2,4,4,2,4,2,4,2,2,2,2,4,3,2,3,2,2,2,3,3,2,4,4,4,4,3,2,2,3,2,2,4,2,2,4,4,2,2,2,2,4,2,1,3,1,3,1,1,4,1,1,1,3,3,1,3,3,3,3,1,1,3,1,3,1,3,1,1,3,3,3,1,1,1,3,3,3,1,3,3,3,1,1,3,3,1,1,3,3,3,3,3],\"coloraxis\":\"coloraxis\",\"symbol\":\"circle\"},\"mode\":\"markers\",\"name\":\"\",\"orientation\":\"v\",\"showlegend\":false,\"x\":[3.5,3.0,3.2,3.1,3.6,3.9,3.4,3.4,2.9,3.1,3.7,3.4,3.0,3.0,4.0,4.4,3.9,3.5,3.8,3.8,3.4,3.7,3.6,3.3,3.4,3.0,3.4,3.5,3.4,3.2,3.1,3.4,4.1,4.2,3.1,3.2,3.5,3.1,3.0,3.4,3.5,2.3,3.2,3.5,3.8,3.0,3.8,3.2,3.7,3.3,3.2,3.2,3.1,2.3,2.8,2.8,3.3,2.4,2.9,2.7,2.0,3.0,2.2,2.9,2.9,3.1,3.0,2.7,2.2,2.5,3.2,2.8,2.5,2.8,2.9,3.0,2.8,3.0,2.9,2.6,2.4,2.4,2.7,2.7,3.0,3.4,3.1,2.3,3.0,2.5,2.6,3.0,2.6,2.3,2.7,3.0,2.9,2.9,2.5,2.8,3.3,2.7,3.0,2.9,3.0,3.0,2.5,2.9,2.5,3.6,3.2,2.7,3.0,2.5,2.8,3.2,3.0,3.8,2.6,2.2,3.2,2.8,2.8,2.7,3.3,3.2,2.8,3.0,2.8,3.0,2.8,3.8,2.8,2.8,2.6,3.0,3.4,3.1,3.0,3.1,3.1,3.1,2.7,3.2,3.3,3.0,2.5,3.0,3.4,3.0],\"xaxis\":\"x\",\"y\":[5.1,4.9,4.7,4.6,5.0,5.4,4.6,5.0,4.4,4.9,5.4,4.8,4.8,4.3,5.8,5.7,5.4,5.1,5.7,5.1,5.4,5.1,4.6,5.1,4.8,5.0,5.0,5.2,5.2,4.7,4.8,5.4,5.2,5.5,4.9,5.0,5.5,4.9,4.4,5.1,5.0,4.5,4.4,5.0,5.1,4.8,5.1,4.6,5.3,5.0,7.0,6.4,6.9,5.5,6.5,5.7,6.3,4.9,6.6,5.2,5.0,5.9,6.0,6.1,5.6,6.7,5.6,5.8,6.2,5.6,5.9,6.1,6.3,6.1,6.4,6.6,6.8,6.7,6.0,5.7,5.5,5.5,5.8,6.0,5.4,6.0,6.7,6.3,5.6,5.5,5.5,6.1,5.8,5.0,5.6,5.7,5.7,6.2,5.1,5.7,6.3,5.8,7.1,6.3,6.5,7.6,4.9,7.3,6.7,7.2,6.5,6.4,6.8,5.7,5.8,6.4,6.5,7.7,7.7,6.0,6.9,5.6,7.7,6.3,6.7,7.2,6.2,6.1,6.4,7.2,7.4,7.9,6.4,6.3,6.1,7.7,6.3,6.4,6.0,6.9,6.7,6.9,5.8,6.8,6.7,6.7,6.3,6.5,6.2,5.9],\"yaxis\":\"y\",\"type\":\"scatter\"}],                        {\"template\":{\"data\":{\"histogram2dcontour\":[{\"type\":\"histogram2dcontour\",\"colorbar\":{\"outlinewidth\":0,\"ticks\":\"\"},\"colorscale\":[[0.0,\"#0d0887\"],[0.1111111111111111,\"#46039f\"],[0.2222222222222222,\"#7201a8\"],[0.3333333333333333,\"#9c179e\"],[0.4444444444444444,\"#bd3786\"],[0.5555555555555556,\"#d8576b\"],[0.6666666666666666,\"#ed7953\"],[0.7777777777777778,\"#fb9f3a\"],[0.8888888888888888,\"#fdca26\"],[1.0,\"#f0f921\"]]}],\"choropleth\":[{\"type\":\"choropleth\",\"colorbar\":{\"outlinewidth\":0,\"ticks\":\"\"}}],\"histogram2d\":[{\"type\":\"histogram2d\",\"colorbar\":{\"outlinewidth\":0,\"ticks\":\"\"},\"colorscale\":[[0.0,\"#0d0887\"],[0.1111111111111111,\"#46039f\"],[0.2222222222222222,\"#7201a8\"],[0.3333333333333333,\"#9c179e\"],[0.4444444444444444,\"#bd3786\"],[0.5555555555555556,\"#d8576b\"],[0.6666666666666666,\"#ed7953\"],[0.7777777777777778,\"#fb9f3a\"],[0.8888888888888888,\"#fdca26\"],[1.0,\"#f0f921\"]]}],\"heatmap\":[{\"type\":\"heatmap\",\"colorbar\":{\"outlinewidth\":0,\"ticks\":\"\"},\"colorscale\":[[0.0,\"#0d0887\"],[0.1111111111111111,\"#46039f\"],[0.2222222222222222,\"#7201a8\"],[0.3333333333333333,\"#9c179e\"],[0.4444444444444444,\"#bd3786\"],[0.5555555555555556,\"#d8576b\"],[0.6666666666666666,\"#ed7953\"],[0.7777777777777778,\"#fb9f3a\"],[0.8888888888888888,\"#fdca26\"],[1.0,\"#f0f921\"]]}],\"heatmapgl\":[{\"type\":\"heatmapgl\",\"colorbar\":{\"outlinewidth\":0,\"ticks\":\"\"},\"colorscale\":[[0.0,\"#0d0887\"],[0.1111111111111111,\"#46039f\"],[0.2222222222222222,\"#7201a8\"],[0.3333333333333333,\"#9c179e\"],[0.4444444444444444,\"#bd3786\"],[0.5555555555555556,\"#d8576b\"],[0.6666666666666666,\"#ed7953\"],[0.7777777777777778,\"#fb9f3a\"],[0.8888888888888888,\"#fdca26\"],[1.0,\"#f0f921\"]]}],\"contourcarpet\":[{\"type\":\"contourcarpet\",\"colorbar\":{\"outlinewidth\":0,\"ticks\":\"\"}}],\"contour\":[{\"type\":\"contour\",\"colorbar\":{\"outlinewidth\":0,\"ticks\":\"\"},\"colorscale\":[[0.0,\"#0d0887\"],[0.1111111111111111,\"#46039f\"],[0.2222222222222222,\"#7201a8\"],[0.3333333333333333,\"#9c179e\"],[0.4444444444444444,\"#bd3786\"],[0.5555555555555556,\"#d8576b\"],[0.6666666666666666,\"#ed7953\"],[0.7777777777777778,\"#fb9f3a\"],[0.8888888888888888,\"#fdca26\"],[1.0,\"#f0f921\"]]}],\"surface\":[{\"type\":\"surface\",\"colorbar\":{\"outlinewidth\":0,\"ticks\":\"\"},\"colorscale\":[[0.0,\"#0d0887\"],[0.1111111111111111,\"#46039f\"],[0.2222222222222222,\"#7201a8\"],[0.3333333333333333,\"#9c179e\"],[0.4444444444444444,\"#bd3786\"],[0.5555555555555556,\"#d8576b\"],[0.6666666666666666,\"#ed7953\"],[0.7777777777777778,\"#fb9f3a\"],[0.8888888888888888,\"#fdca26\"],[1.0,\"#f0f921\"]]}],\"mesh3d\":[{\"type\":\"mesh3d\",\"colorbar\":{\"outlinewidth\":0,\"ticks\":\"\"}}],\"scatter\":[{\"fillpattern\":{\"fillmode\":\"overlay\",\"size\":10,\"solidity\":0.2},\"type\":\"scatter\"}],\"parcoords\":[{\"type\":\"parcoords\",\"line\":{\"colorbar\":{\"outlinewidth\":0,\"ticks\":\"\"}}}],\"scatterpolargl\":[{\"type\":\"scatterpolargl\",\"marker\":{\"colorbar\":{\"outlinewidth\":0,\"ticks\":\"\"}}}],\"bar\":[{\"error_x\":{\"color\":\"#2a3f5f\"},\"error_y\":{\"color\":\"#2a3f5f\"},\"marker\":{\"line\":{\"color\":\"#E5ECF6\",\"width\":0.5},\"pattern\":{\"fillmode\":\"overlay\",\"size\":10,\"solidity\":0.2}},\"type\":\"bar\"}],\"scattergeo\":[{\"type\":\"scattergeo\",\"marker\":{\"colorbar\":{\"outlinewidth\":0,\"ticks\":\"\"}}}],\"scatterpolar\":[{\"type\":\"scatterpolar\",\"marker\":{\"colorbar\":{\"outlinewidth\":0,\"ticks\":\"\"}}}],\"histogram\":[{\"marker\":{\"pattern\":{\"fillmode\":\"overlay\",\"size\":10,\"solidity\":0.2}},\"type\":\"histogram\"}],\"scattergl\":[{\"type\":\"scattergl\",\"marker\":{\"colorbar\":{\"outlinewidth\":0,\"ticks\":\"\"}}}],\"scatter3d\":[{\"type\":\"scatter3d\",\"line\":{\"colorbar\":{\"outlinewidth\":0,\"ticks\":\"\"}},\"marker\":{\"colorbar\":{\"outlinewidth\":0,\"ticks\":\"\"}}}],\"scattermapbox\":[{\"type\":\"scattermapbox\",\"marker\":{\"colorbar\":{\"outlinewidth\":0,\"ticks\":\"\"}}}],\"scatterternary\":[{\"type\":\"scatterternary\",\"marker\":{\"colorbar\":{\"outlinewidth\":0,\"ticks\":\"\"}}}],\"scattercarpet\":[{\"type\":\"scattercarpet\",\"marker\":{\"colorbar\":{\"outlinewidth\":0,\"ticks\":\"\"}}}],\"carpet\":[{\"aaxis\":{\"endlinecolor\":\"#2a3f5f\",\"gridcolor\":\"white\",\"linecolor\":\"white\",\"minorgridcolor\":\"white\",\"startlinecolor\":\"#2a3f5f\"},\"baxis\":{\"endlinecolor\":\"#2a3f5f\",\"gridcolor\":\"white\",\"linecolor\":\"white\",\"minorgridcolor\":\"white\",\"startlinecolor\":\"#2a3f5f\"},\"type\":\"carpet\"}],\"table\":[{\"cells\":{\"fill\":{\"color\":\"#EBF0F8\"},\"line\":{\"color\":\"white\"}},\"header\":{\"fill\":{\"color\":\"#C8D4E3\"},\"line\":{\"color\":\"white\"}},\"type\":\"table\"}],\"barpolar\":[{\"marker\":{\"line\":{\"color\":\"#E5ECF6\",\"width\":0.5},\"pattern\":{\"fillmode\":\"overlay\",\"size\":10,\"solidity\":0.2}},\"type\":\"barpolar\"}],\"pie\":[{\"automargin\":true,\"type\":\"pie\"}]},\"layout\":{\"autotypenumbers\":\"strict\",\"colorway\":[\"#636efa\",\"#EF553B\",\"#00cc96\",\"#ab63fa\",\"#FFA15A\",\"#19d3f3\",\"#FF6692\",\"#B6E880\",\"#FF97FF\",\"#FECB52\"],\"font\":{\"color\":\"#2a3f5f\"},\"hovermode\":\"closest\",\"hoverlabel\":{\"align\":\"left\"},\"paper_bgcolor\":\"white\",\"plot_bgcolor\":\"#E5ECF6\",\"polar\":{\"bgcolor\":\"#E5ECF6\",\"angularaxis\":{\"gridcolor\":\"white\",\"linecolor\":\"white\",\"ticks\":\"\"},\"radialaxis\":{\"gridcolor\":\"white\",\"linecolor\":\"white\",\"ticks\":\"\"}},\"ternary\":{\"bgcolor\":\"#E5ECF6\",\"aaxis\":{\"gridcolor\":\"white\",\"linecolor\":\"white\",\"ticks\":\"\"},\"baxis\":{\"gridcolor\":\"white\",\"linecolor\":\"white\",\"ticks\":\"\"},\"caxis\":{\"gridcolor\":\"white\",\"linecolor\":\"white\",\"ticks\":\"\"}},\"coloraxis\":{\"colorbar\":{\"outlinewidth\":0,\"ticks\":\"\"}},\"colorscale\":{\"sequential\":[[0.0,\"#0d0887\"],[0.1111111111111111,\"#46039f\"],[0.2222222222222222,\"#7201a8\"],[0.3333333333333333,\"#9c179e\"],[0.4444444444444444,\"#bd3786\"],[0.5555555555555556,\"#d8576b\"],[0.6666666666666666,\"#ed7953\"],[0.7777777777777778,\"#fb9f3a\"],[0.8888888888888888,\"#fdca26\"],[1.0,\"#f0f921\"]],\"sequentialminus\":[[0.0,\"#0d0887\"],[0.1111111111111111,\"#46039f\"],[0.2222222222222222,\"#7201a8\"],[0.3333333333333333,\"#9c179e\"],[0.4444444444444444,\"#bd3786\"],[0.5555555555555556,\"#d8576b\"],[0.6666666666666666,\"#ed7953\"],[0.7777777777777778,\"#fb9f3a\"],[0.8888888888888888,\"#fdca26\"],[1.0,\"#f0f921\"]],\"diverging\":[[0,\"#8e0152\"],[0.1,\"#c51b7d\"],[0.2,\"#de77ae\"],[0.3,\"#f1b6da\"],[0.4,\"#fde0ef\"],[0.5,\"#f7f7f7\"],[0.6,\"#e6f5d0\"],[0.7,\"#b8e186\"],[0.8,\"#7fbc41\"],[0.9,\"#4d9221\"],[1,\"#276419\"]]},\"xaxis\":{\"gridcolor\":\"white\",\"linecolor\":\"white\",\"ticks\":\"\",\"title\":{\"standoff\":15},\"zerolinecolor\":\"white\",\"automargin\":true,\"zerolinewidth\":2},\"yaxis\":{\"gridcolor\":\"white\",\"linecolor\":\"white\",\"ticks\":\"\",\"title\":{\"standoff\":15},\"zerolinecolor\":\"white\",\"automargin\":true,\"zerolinewidth\":2},\"scene\":{\"xaxis\":{\"backgroundcolor\":\"#E5ECF6\",\"gridcolor\":\"white\",\"linecolor\":\"white\",\"showbackground\":true,\"ticks\":\"\",\"zerolinecolor\":\"white\",\"gridwidth\":2},\"yaxis\":{\"backgroundcolor\":\"#E5ECF6\",\"gridcolor\":\"white\",\"linecolor\":\"white\",\"showbackground\":true,\"ticks\":\"\",\"zerolinecolor\":\"white\",\"gridwidth\":2},\"zaxis\":{\"backgroundcolor\":\"#E5ECF6\",\"gridcolor\":\"white\",\"linecolor\":\"white\",\"showbackground\":true,\"ticks\":\"\",\"zerolinecolor\":\"white\",\"gridwidth\":2}},\"shapedefaults\":{\"line\":{\"color\":\"#2a3f5f\"}},\"annotationdefaults\":{\"arrowcolor\":\"#2a3f5f\",\"arrowhead\":0,\"arrowwidth\":1},\"geo\":{\"bgcolor\":\"white\",\"landcolor\":\"#E5ECF6\",\"subunitcolor\":\"white\",\"showland\":true,\"showlakes\":true,\"lakecolor\":\"white\"},\"title\":{\"x\":0.05},\"mapbox\":{\"style\":\"light\"}}},\"xaxis\":{\"anchor\":\"y\",\"domain\":[0.0,1.0],\"title\":{\"text\":\"SepalWidth\"}},\"yaxis\":{\"anchor\":\"x\",\"domain\":[0.0,1.0],\"title\":{\"text\":\"SepalLength\"}},\"coloraxis\":{\"colorbar\":{\"title\":{\"text\":\"cluster\"}},\"colorscale\":[[0.0,\"#0d0887\"],[0.1111111111111111,\"#46039f\"],[0.2222222222222222,\"#7201a8\"],[0.3333333333333333,\"#9c179e\"],[0.4444444444444444,\"#bd3786\"],[0.5555555555555556,\"#d8576b\"],[0.6666666666666666,\"#ed7953\"],[0.7777777777777778,\"#fb9f3a\"],[0.8888888888888888,\"#fdca26\"],[1.0,\"#f0f921\"]]},\"legend\":{\"tracegroupgap\":0},\"margin\":{\"t\":60}},                        {\"responsive\": true}                    ).then(function(){\n",
              "                            \n",
              "var gd = document.getElementById('e452caa4-6392-4d51-809a-b44fb88ec180');\n",
              "var x = new MutationObserver(function (mutations, observer) {{\n",
              "        var display = window.getComputedStyle(gd).display;\n",
              "        if (!display || display === 'none') {{\n",
              "            console.log([gd, 'removed!']);\n",
              "            Plotly.purge(gd);\n",
              "            observer.disconnect();\n",
              "        }}\n",
              "}});\n",
              "\n",
              "// Listen for the removal of the full notebook cells\n",
              "var notebookContainer = gd.closest('#notebook-container');\n",
              "if (notebookContainer) {{\n",
              "    x.observe(notebookContainer, {childList: true});\n",
              "}}\n",
              "\n",
              "// Listen for the clearing of the current output cell\n",
              "var outputEl = gd.closest('.output');\n",
              "if (outputEl) {{\n",
              "    x.observe(outputEl, {childList: true});\n",
              "}}\n",
              "\n",
              "                        })                };                });            </script>        </div>"
            ]
          },
          "metadata": {},
          "output_type": "display_data"
        }
      ],
      "source": [
        "px.scatter(dta_iris,'SepalWidth','SepalLength','cluster')\n",
        "\n",
        "#<xml xmlns=\"https://developers.google.com/blockly/xml\"><variables><variable id=\"3XR/LXd[R:?-joQq2iX*\">px</variable><variable id=\"K-$W3`yn;-;t/nG`(JNB\">dta_iris</variable></variables><block type=\"varDoMethod_Python\" id=\"Nh{Eg5F!2rJ$eXZ%*%6[\" x=\"87\" y=\"146\"><mutation items=\"4\"></mutation><field name=\"VAR\" id=\"3XR/LXd[R:?-joQq2iX*\">px</field><field name=\"MEMBER\">scatter</field><data>px:scatter</data><value name=\"ADD0\"><block type=\"variables_get\" id=\"c*ub-3F_DY`H{d$0Kq/2\"><field name=\"VAR\" id=\"K-$W3`yn;-;t/nG`(JNB\">dta_iris</field></block></value><value name=\"ADD1\"><block type=\"text\" id=\"aK`7UIcJd=U[I{XEu1!6\"><field name=\"TEXT\">SepalWidth</field></block></value><value name=\"ADD2\"><block type=\"text\" id=\"PAWmVeUG+kgf9Gtuo]!8\"><field name=\"TEXT\">SepalLength</field></block></value><value name=\"ADD3\"><block type=\"text\" id=\",N[m39O3{bUB*Bk086$6\"><field name=\"TEXT\">cluster</field></block></value></block></xml>"
      ]
    },
    {
      "cell_type": "markdown",
      "metadata": {
        "id": "qu1aL181baKm"
      },
      "source": [
        "How do we know we need the clusters?\n",
        "\n",
        "- The cluster points (in different colors) are in different regions of the plot and mostly don't overlap\n",
        "\n",
        "- The trendlines suggests that different clusters may have slightly different relationships between `SepalLength` and `SepalWidth`, as indicated by different slopes to these lines"
      ]
    },
    {
      "cell_type": "markdown",
      "metadata": {
        "id": "VdMCnJLwbaKm"
      },
      "source": [
        "### Choosing the number of clusters"
      ]
    },
    {
      "cell_type": "markdown",
      "metadata": {
        "id": "zMLCmUj_baKm"
      },
      "source": [
        "Oftentimes there are suggestions from the domain of the problem that suggest an appropriate number of clusters, $g$.\n",
        "In many instances however, we must make our own decisions about the __best__ value of $g$.\n",
        "One method is to select a set of cluster sizes that may be appropriate and compare the clustering using sum of squares to see which value of $g$ gives the best clustering.\n",
        "Ideally we would like the distances between observation vectors to be small inside each cluster and large across clusters.\n",
        "We can evaluate these using within sum of squares matrices and between sum of squares matrices.\n",
        "In an ideal clustering, the within SS matrix should be __small__ and the between SS matrix should be __large__.  \n",
        "There are various measures we can use to assess the relative size of matrices, including the trace and determinant.\n"
      ]
    },
    {
      "cell_type": "markdown",
      "metadata": {
        "id": "9X-rPIvFbaKm"
      },
      "source": [
        "### Mixtures of Distributions"
      ]
    },
    {
      "cell_type": "markdown",
      "metadata": {
        "id": "aU4dI1w1baKm"
      },
      "source": [
        "We can use probability models to perform clustering if we assume that there are $g$ multivariate normal distributions corresponding to the proposed $g$ clusters.\n",
        "We want to assign each observation vector to the distribution that is most probable.\n",
        "We assume that each observation vector $\\mathbf{X}$ has a probability distribution given by the mixture:\n",
        "\n",
        "$$h(\\mathbf{X}) = \\sum_{i=1}^g \\alpha_i f_i(\\mathbf{X}, \\mathbf{\\mu}_i, \\mathbf{\\Sigma}_i)$$\n",
        "where $0 \\le \\alpha_i \\le 1$ and $\\displaystyle \\sum_{i=1}^g \\alpha_i = 1$.  \n",
        "\n",
        "$f_i(\\cdot)$ is a probability distribution usually assumed to be a multivariate normal distribution with mean vector $\\mathbf{\\mu}_i$ and covariance matrix $\\mathbf{\\Sigma}_i$.\n",
        "We assign an observed vector to the cluster with highest posterior probability."
      ]
    },
    {
      "cell_type": "markdown",
      "metadata": {
        "id": "QkQfxiIObaKm"
      },
      "source": [
        "<!--  -->"
      ]
    }
  ],
  "metadata": {
    "kernelspec": {
      "display_name": "Python 3 (ipykernel)",
      "language": "python",
      "name": "python3"
    },
    "language_info": {
      "codemirror_mode": {
        "name": "ipython",
        "version": 3
      },
      "file_extension": ".py",
      "mimetype": "text/x-python",
      "name": "python",
      "nbconvert_exporter": "python",
      "pygments_lexer": "ipython3",
      "version": "3.10.10"
    },
    "colab": {
      "provenance": []
    }
  },
  "nbformat": 4,
  "nbformat_minor": 0
}